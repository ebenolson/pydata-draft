{
 "cells": [
  {
   "cell_type": "markdown",
   "metadata": {
    "slideshow": {
     "slide_type": "slide"
    }
   },
   "source": [
    "import theano"
   ]
  },
  {
   "cell_type": "code",
   "execution_count": 2,
   "metadata": {
    "collapsed": true,
    "slideshow": {
     "slide_type": "fragment"
    }
   },
   "outputs": [],
   "source": [
    "import theano.tensor as T"
   ]
  },
  {
   "cell_type": "code",
   "execution_count": 16,
   "metadata": {
    "collapsed": true,
    "slideshow": {
     "slide_type": "slide"
    }
   },
   "outputs": [],
   "source": [
    "x = T.scalar()"
   ]
  },
  {
   "cell_type": "code",
   "execution_count": 4,
   "metadata": {
    "collapsed": false
   },
   "outputs": [
    {
     "data": {
      "text/plain": [
       "<TensorType(float32, scalar)>"
      ]
     },
     "execution_count": 4,
     "metadata": {},
     "output_type": "execute_result"
    }
   ],
   "source": [
    "x"
   ]
  },
  {
   "cell_type": "code",
   "execution_count": 66,
   "metadata": {
    "collapsed": false,
    "slideshow": {
     "slide_type": "slide"
    }
   },
   "outputs": [],
   "source": [
    "y = 3*(x**2) + 1"
   ]
  },
  {
   "cell_type": "code",
   "execution_count": 6,
   "metadata": {
    "collapsed": false,
    "slideshow": {
     "slide_type": "fragment"
    }
   },
   "outputs": [
    {
     "data": {
      "text/plain": [
       "theano.tensor.var.TensorVariable"
      ]
     },
     "execution_count": 6,
     "metadata": {},
     "output_type": "execute_result"
    }
   ],
   "source": [
    "type(y)"
   ]
  },
  {
   "cell_type": "code",
   "execution_count": 7,
   "metadata": {
    "collapsed": false,
    "slideshow": {
     "slide_type": "slide"
    }
   },
   "outputs": [
    {
     "name": "stdout",
     "output_type": "stream",
     "text": [
      "Elemwise{add,no_inplace}.0\n"
     ]
    }
   ],
   "source": [
    "print(y)"
   ]
  },
  {
   "cell_type": "code",
   "execution_count": 67,
   "metadata": {
    "collapsed": false
   },
   "outputs": [
    {
     "data": {
      "text/plain": [
       "'((TensorConstant{3} * (<TensorType(float32, scalar)> ** TensorConstant{2})) + TensorConstant{1})'"
      ]
     },
     "execution_count": 67,
     "metadata": {},
     "output_type": "execute_result"
    }
   ],
   "source": [
    "theano.pprint(y)"
   ]
  },
  {
   "cell_type": "code",
   "execution_count": 68,
   "metadata": {
    "collapsed": false
   },
   "outputs": [
    {
     "name": "stdout",
     "output_type": "stream",
     "text": [
      "Elemwise{add,no_inplace} [@A] ''   \n",
      " |Elemwise{mul,no_inplace} [@B] ''   \n",
      " | |TensorConstant{3} [@C]\n",
      " | |Elemwise{pow,no_inplace} [@D] ''   \n",
      " |   |<TensorType(float32, scalar)> [@E]\n",
      " |   |TensorConstant{2} [@F]\n",
      " |TensorConstant{1} [@G]\n"
     ]
    }
   ],
   "source": [
    "theano.printing.debugprint(y)"
   ]
  },
  {
   "cell_type": "code",
   "execution_count": 9,
   "metadata": {
    "collapsed": false,
    "slideshow": {
     "slide_type": "slide"
    }
   },
   "outputs": [
    {
     "data": {
      "image/svg+xml": [
       "<svg height=\"382pt\" viewBox=\"0.00 0.00 670.00 382.00\" width=\"670pt\" xmlns=\"http://www.w3.org/2000/svg\" xmlns:xlink=\"http://www.w3.org/1999/xlink\">\n",
       "<g class=\"graph\" id=\"graph0\" transform=\"scale(1 1) rotate(0) translate(4 378)\">\n",
       "<title>G</title>\n",
       "<polygon fill=\"white\" points=\"-4,4 -4,-378 666,-378 666,4 -4,4\" stroke=\"none\"/>\n",
       "<!-- 139743703373520 -->\n",
       "<g class=\"node\" id=\"node1\"><title>139743703373520</title>\n",
       "<ellipse cx=\"472\" cy=\"-268\" fill=\"#ffaabb\" rx=\"110.235\" ry=\"18\" stroke=\"black\"/>\n",
       "<text font-family=\"Times,serif\" font-size=\"14.00\" text-anchor=\"middle\" x=\"472\" y=\"-264.3\">Elemwise{pow,no_inplace}</text>\n",
       "</g>\n",
       "<!-- 139743703373648 -->\n",
       "<g class=\"node\" id=\"node4\"><title>139743703373648</title>\n",
       "<ellipse cx=\"314\" cy=\"-180\" fill=\"#ffaabb\" rx=\"109.261\" ry=\"18\" stroke=\"black\"/>\n",
       "<text font-family=\"Times,serif\" font-size=\"14.00\" text-anchor=\"middle\" x=\"314\" y=\"-176.3\">Elemwise{mul,no_inplace}</text>\n",
       "</g>\n",
       "<!-- 139743703373520&#45;&gt;139743703373648 -->\n",
       "<g class=\"edge\" id=\"edge4\"><title>139743703373520-&gt;139743703373648</title>\n",
       "<path d=\"M441.91,-250.622C416.651,-236.873 380.394,-217.139 352.928,-202.188\" fill=\"none\" stroke=\"black\"/>\n",
       "<polygon fill=\"black\" points=\"354.435,-199.024 343.978,-197.317 351.088,-205.172 354.435,-199.024\" stroke=\"black\"/>\n",
       "<text font-family=\"Times,serif\" font-size=\"14.00\" text-anchor=\"middle\" x=\"488.5\" y=\"-220.3\">1 TensorType(float32, scalar)</text>\n",
       "</g>\n",
       "<!-- 139743703373328 -->\n",
       "<g class=\"node\" id=\"node2\"><title>139743703373328</title>\n",
       "<polygon fill=\"green\" points=\"457.5,-374 290.5,-374 290.5,-338 457.5,-338 457.5,-374\" stroke=\"black\"/>\n",
       "<text font-family=\"Times,serif\" font-size=\"14.00\" text-anchor=\"middle\" x=\"374\" y=\"-352.3\">TensorType(float32, scalar)</text>\n",
       "</g>\n",
       "<!-- 139743703373328&#45;&gt;139743703373520 -->\n",
       "<g class=\"edge\" id=\"edge1\"><title>139743703373328-&gt;139743703373520</title>\n",
       "<path d=\"M393.832,-337.597C408.636,-324.605 429.024,-306.714 445.267,-292.46\" fill=\"none\" stroke=\"black\"/>\n",
       "<polygon fill=\"black\" points=\"447.657,-295.019 452.865,-285.792 443.04,-289.757 447.657,-295.019\" stroke=\"black\"/>\n",
       "<text font-family=\"Times,serif\" font-size=\"14.00\" text-anchor=\"middle\" x=\"434.5\" y=\"-308.3\">0</text>\n",
       "</g>\n",
       "<!-- 139743703373392 -->\n",
       "<g class=\"node\" id=\"node3\"><title>139743703373392</title>\n",
       "<polygon fill=\"green\" points=\"661.5,-374 476.5,-374 476.5,-338 661.5,-338 661.5,-374\" stroke=\"black\"/>\n",
       "<text font-family=\"Times,serif\" font-size=\"14.00\" text-anchor=\"middle\" x=\"569\" y=\"-352.3\">val=2 TensorType(int8, scalar)</text>\n",
       "</g>\n",
       "<!-- 139743703373392&#45;&gt;139743703373520 -->\n",
       "<g class=\"edge\" id=\"edge2\"><title>139743703373392-&gt;139743703373520</title>\n",
       "<path d=\"M549.371,-337.597C534.718,-324.605 514.537,-306.714 498.46,-292.46\" fill=\"none\" stroke=\"black\"/>\n",
       "<polygon fill=\"black\" points=\"500.745,-289.807 490.94,-285.792 496.101,-295.045 500.745,-289.807\" stroke=\"black\"/>\n",
       "<text font-family=\"Times,serif\" font-size=\"14.00\" text-anchor=\"middle\" x=\"532.5\" y=\"-308.3\">1</text>\n",
       "</g>\n",
       "<!-- 139743703373776 -->\n",
       "<g class=\"node\" id=\"node6\"><title>139743703373776</title>\n",
       "<ellipse cx=\"155\" cy=\"-92\" fill=\"#ffaabb\" rx=\"108.31\" ry=\"18\" stroke=\"black\"/>\n",
       "<text font-family=\"Times,serif\" font-size=\"14.00\" text-anchor=\"middle\" x=\"155\" y=\"-88.3\">Elemwise{add,no_inplace}</text>\n",
       "</g>\n",
       "<!-- 139743703373648&#45;&gt;139743703373776 -->\n",
       "<g class=\"edge\" id=\"edge5\"><title>139743703373648-&gt;139743703373776</title>\n",
       "<path d=\"M283.719,-162.622C258.3,-148.873 221.814,-129.139 194.174,-114.188\" fill=\"none\" stroke=\"black\"/>\n",
       "<polygon fill=\"black\" points=\"195.629,-110.996 185.168,-109.317 192.299,-117.153 195.629,-110.996\" stroke=\"black\"/>\n",
       "<text font-family=\"Times,serif\" font-size=\"14.00\" text-anchor=\"middle\" x=\"329.5\" y=\"-132.3\">0 TensorType(float32, scalar)</text>\n",
       "</g>\n",
       "<!-- 139743703373200 -->\n",
       "<g class=\"node\" id=\"node5\"><title>139743703373200</title>\n",
       "<polygon fill=\"green\" points=\"343.5,-286 158.5,-286 158.5,-250 343.5,-250 343.5,-286\" stroke=\"black\"/>\n",
       "<text font-family=\"Times,serif\" font-size=\"14.00\" text-anchor=\"middle\" x=\"251\" y=\"-264.3\">val=3 TensorType(int8, scalar)</text>\n",
       "</g>\n",
       "<!-- 139743703373200&#45;&gt;139743703373648 -->\n",
       "<g class=\"edge\" id=\"edge3\"><title>139743703373200-&gt;139743703373648</title>\n",
       "<path d=\"M263.749,-249.597C272.86,-237.159 285.262,-220.23 295.465,-206.302\" fill=\"none\" stroke=\"black\"/>\n",
       "<polygon fill=\"black\" points=\"298.399,-208.219 301.485,-198.084 292.752,-204.083 298.399,-208.219\" stroke=\"black\"/>\n",
       "<text font-family=\"Times,serif\" font-size=\"14.00\" text-anchor=\"middle\" x=\"291.5\" y=\"-220.3\">0</text>\n",
       "</g>\n",
       "<!-- 139743703373840 -->\n",
       "<g class=\"node\" id=\"node8\"><title>139743703373840</title>\n",
       "<polygon fill=\"blue\" points=\"238.5,-36 71.5,-36 71.5,-0 238.5,-0 238.5,-36\" stroke=\"black\"/>\n",
       "<text font-family=\"Times,serif\" font-size=\"14.00\" text-anchor=\"middle\" x=\"155\" y=\"-14.3\">TensorType(float32, scalar)</text>\n",
       "</g>\n",
       "<!-- 139743703373776&#45;&gt;139743703373840 -->\n",
       "<g class=\"edge\" id=\"edge7\"><title>139743703373776-&gt;139743703373840</title>\n",
       "<path d=\"M155,-73.937C155,-65.8072 155,-55.8761 155,-46.7047\" fill=\"none\" stroke=\"black\"/>\n",
       "<polygon fill=\"black\" points=\"158.5,-46.4406 155,-36.4407 151.5,-46.4407 158.5,-46.4406\" stroke=\"black\"/>\n",
       "</g>\n",
       "<!-- 139743703373456 -->\n",
       "<g class=\"node\" id=\"node7\"><title>139743703373456</title>\n",
       "<polygon fill=\"green\" points=\"185.5,-198 0.5,-198 0.5,-162 185.5,-162 185.5,-198\" stroke=\"black\"/>\n",
       "<text font-family=\"Times,serif\" font-size=\"14.00\" text-anchor=\"middle\" x=\"93\" y=\"-176.3\">val=1 TensorType(int8, scalar)</text>\n",
       "</g>\n",
       "<!-- 139743703373456&#45;&gt;139743703373776 -->\n",
       "<g class=\"edge\" id=\"edge6\"><title>139743703373456-&gt;139743703373776</title>\n",
       "<path d=\"M105.547,-161.597C114.513,-149.159 126.718,-132.23 136.759,-118.302\" fill=\"none\" stroke=\"black\"/>\n",
       "<polygon fill=\"black\" points=\"139.675,-120.243 142.684,-110.084 133.996,-116.149 139.675,-120.243\" stroke=\"black\"/>\n",
       "<text font-family=\"Times,serif\" font-size=\"14.00\" text-anchor=\"middle\" x=\"133.5\" y=\"-132.3\">1</text>\n",
       "</g>\n",
       "</g>\n",
       "</svg>"
      ],
      "text/plain": [
       "<IPython.core.display.SVG object>"
      ]
     },
     "execution_count": 9,
     "metadata": {},
     "output_type": "execute_result"
    }
   ],
   "source": [
    "from IPython.display import SVG\n",
    "SVG(theano.printing.pydotprint(y, return_image=True, format='svg'))"
   ]
  },
  {
   "cell_type": "markdown",
   "metadata": {
    "slideshow": {
     "slide_type": "slide"
    }
   },
   "source": [
    "Supply a `dict` mapping variables to values"
   ]
  },
  {
   "cell_type": "code",
   "execution_count": 10,
   "metadata": {
    "collapsed": false
   },
   "outputs": [
    {
     "data": {
      "text/plain": [
       "array(13.0, dtype=float32)"
      ]
     },
     "execution_count": 10,
     "metadata": {},
     "output_type": "execute_result"
    }
   ],
   "source": [
    "y.eval({x: 2})"
   ]
  },
  {
   "cell_type": "markdown",
   "metadata": {
    "slideshow": {
     "slide_type": "slide"
    }
   },
   "source": [
    "Compile a function"
   ]
  },
  {
   "cell_type": "code",
   "execution_count": 11,
   "metadata": {
    "collapsed": true
   },
   "outputs": [],
   "source": [
    "f = theano.function([x], y)"
   ]
  },
  {
   "cell_type": "code",
   "execution_count": 12,
   "metadata": {
    "collapsed": false,
    "slideshow": {
     "slide_type": "fragment"
    }
   },
   "outputs": [
    {
     "data": {
      "text/plain": [
       "array(13.0, dtype=float32)"
      ]
     },
     "execution_count": 12,
     "metadata": {},
     "output_type": "execute_result"
    }
   ],
   "source": [
    "f(2)"
   ]
  },
  {
   "cell_type": "code",
   "execution_count": 69,
   "metadata": {
    "collapsed": false,
    "slideshow": {
     "slide_type": "slide"
    }
   },
   "outputs": [
    {
     "data": {
      "image/svg+xml": [
       "<svg height=\"368pt\" viewBox=\"0.00 0.00 717.00 368.00\" width=\"717pt\" xmlns=\"http://www.w3.org/2000/svg\" xmlns:xlink=\"http://www.w3.org/1999/xlink\">\n",
       "<g class=\"graph\" id=\"graph0\" transform=\"scale(1 1) rotate(0) translate(4 364)\">\n",
       "<title>G</title>\n",
       "<polygon fill=\"white\" points=\"-4,4 -4,-364 713,-364 713,4 -4,4\" stroke=\"none\"/>\n",
       "<!-- 139743702766160 -->\n",
       "<g class=\"node\" id=\"node1\"><title>139743702766160</title>\n",
       "<ellipse cx=\"595\" cy=\"-268\" fill=\"red\" rx=\"61.6163\" ry=\"18\" stroke=\"black\"/>\n",
       "<text font-family=\"Times,serif\" font-size=\"14.00\" text-anchor=\"middle\" x=\"595\" y=\"-264.3\">GpuFromHost</text>\n",
       "</g>\n",
       "<!-- 139743677038864 -->\n",
       "<g class=\"node\" id=\"node3\"><title>139743677038864</title>\n",
       "<ellipse cx=\"391\" cy=\"-180\" fill=\"#ffaabb\" rx=\"210.372\" ry=\"18\" stroke=\"black\"/>\n",
       "<text font-family=\"Times,serif\" font-size=\"14.00\" text-anchor=\"middle\" x=\"391\" y=\"-176.3\">GpuElemwise{Composite{(i0 + (i1 * sqr(i2)))}}[(0, 2)]</text>\n",
       "</g>\n",
       "<!-- 139743702766160&#45;&gt;139743677038864 -->\n",
       "<g class=\"edge\" id=\"edge4\"><title>139743702766160-&gt;139743677038864</title>\n",
       "<path d=\"M561.314,-252.799C528.242,-238.857 477.439,-217.44 439.919,-201.623\" fill=\"none\" stroke=\"red\"/>\n",
       "<polygon fill=\"red\" points=\"441.259,-198.389 430.685,-197.73 438.54,-204.84 441.259,-198.389\" stroke=\"red\"/>\n",
       "<text font-family=\"Times,serif\" font-size=\"14.00\" text-anchor=\"middle\" x=\"610\" y=\"-220.3\">2 CudaNdarrayType(float32, scalar)</text>\n",
       "</g>\n",
       "<!-- 139743676931856 -->\n",
       "<g class=\"node\" id=\"node2\"><title>139743676931856</title>\n",
       "<polygon fill=\"green\" points=\"678.5,-360 511.5,-360 511.5,-324 678.5,-324 678.5,-360\" stroke=\"black\"/>\n",
       "<text font-family=\"Times,serif\" font-size=\"14.00\" text-anchor=\"middle\" x=\"595\" y=\"-338.3\">TensorType(float32, scalar)</text>\n",
       "</g>\n",
       "<!-- 139743676931856&#45;&gt;139743702766160 -->\n",
       "<g class=\"edge\" id=\"edge1\"><title>139743676931856-&gt;139743702766160</title>\n",
       "<path d=\"M595,-323.937C595,-315.807 595,-305.876 595,-296.705\" fill=\"none\" stroke=\"black\"/>\n",
       "<polygon fill=\"black\" points=\"598.5,-296.441 595,-286.441 591.5,-296.441 598.5,-296.441\" stroke=\"black\"/>\n",
       "</g>\n",
       "<!-- 139743677038800 -->\n",
       "<g class=\"node\" id=\"node6\"><title>139743677038800</title>\n",
       "<ellipse cx=\"391\" cy=\"-92\" fill=\"red\" rx=\"61.6163\" ry=\"18\" stroke=\"black\"/>\n",
       "<text font-family=\"Times,serif\" font-size=\"14.00\" text-anchor=\"middle\" x=\"391\" y=\"-88.3\">HostFromGpu</text>\n",
       "</g>\n",
       "<!-- 139743677038864&#45;&gt;139743677038800 -->\n",
       "<g class=\"edge\" id=\"edge5\"><title>139743677038864-&gt;139743677038800</title>\n",
       "<path d=\"M391,-161.597C391,-149.746 391,-133.817 391,-120.292\" fill=\"none\" stroke=\"black\"/>\n",
       "<polygon fill=\"black\" points=\"394.5,-120.084 391,-110.084 387.5,-120.084 394.5,-120.084\" stroke=\"black\"/>\n",
       "<text font-family=\"Times,serif\" font-size=\"14.00\" text-anchor=\"middle\" x=\"484.5\" y=\"-132.3\">CudaNdarrayType(float32, scalar)</text>\n",
       "</g>\n",
       "<!-- 139743677039120 -->\n",
       "<g class=\"node\" id=\"node4\"><title>139743677039120</title>\n",
       "<polygon fill=\"green\" points=\"248.25,-286 -0.25,-286 -0.25,-250 248.25,-250 248.25,-286\" stroke=\"black\"/>\n",
       "<text font-family=\"Times,serif\" font-size=\"14.00\" text-anchor=\"middle\" x=\"124\" y=\"-264.3\">val=1.0 CudaNdarrayType(float32, scalar)</text>\n",
       "</g>\n",
       "<!-- 139743677039120&#45;&gt;139743677038864 -->\n",
       "<g class=\"edge\" id=\"edge2\"><title>139743677039120-&gt;139743677038864</title>\n",
       "<path d=\"M177.07,-249.906C221.226,-235.684 284.098,-215.433 330.26,-200.564\" fill=\"none\" stroke=\"black\"/>\n",
       "<polygon fill=\"black\" points=\"331.398,-203.875 339.844,-197.477 329.252,-197.212 331.398,-203.875\" stroke=\"black\"/>\n",
       "<text font-family=\"Times,serif\" font-size=\"14.00\" text-anchor=\"middle\" x=\"284.5\" y=\"-220.3\">0</text>\n",
       "</g>\n",
       "<!-- 139743702768656 -->\n",
       "<g class=\"node\" id=\"node5\"><title>139743702768656</title>\n",
       "<polygon fill=\"green\" points=\"515.25,-286 266.75,-286 266.75,-250 515.25,-250 515.25,-286\" stroke=\"black\"/>\n",
       "<text font-family=\"Times,serif\" font-size=\"14.00\" text-anchor=\"middle\" x=\"391\" y=\"-264.3\">val=3.0 CudaNdarrayType(float32, scalar)</text>\n",
       "</g>\n",
       "<!-- 139743702768656&#45;&gt;139743677038864 -->\n",
       "<g class=\"edge\" id=\"edge3\"><title>139743702768656-&gt;139743677038864</title>\n",
       "<path d=\"M391,-249.597C391,-237.746 391,-221.817 391,-208.292\" fill=\"none\" stroke=\"black\"/>\n",
       "<polygon fill=\"black\" points=\"394.5,-208.084 391,-198.084 387.5,-208.084 394.5,-208.084\" stroke=\"black\"/>\n",
       "<text font-family=\"Times,serif\" font-size=\"14.00\" text-anchor=\"middle\" x=\"394.5\" y=\"-220.3\">1</text>\n",
       "</g>\n",
       "<!-- 139743677038736 -->\n",
       "<g class=\"node\" id=\"node7\"><title>139743677038736</title>\n",
       "<polygon fill=\"blue\" points=\"474.5,-36 307.5,-36 307.5,-0 474.5,-0 474.5,-36\" stroke=\"black\"/>\n",
       "<text font-family=\"Times,serif\" font-size=\"14.00\" text-anchor=\"middle\" x=\"391\" y=\"-14.3\">TensorType(float32, scalar)</text>\n",
       "</g>\n",
       "<!-- 139743677038800&#45;&gt;139743677038736 -->\n",
       "<g class=\"edge\" id=\"edge6\"><title>139743677038800-&gt;139743677038736</title>\n",
       "<path d=\"M391,-73.937C391,-65.8072 391,-55.8761 391,-46.7047\" fill=\"none\" stroke=\"black\"/>\n",
       "<polygon fill=\"black\" points=\"394.5,-46.4406 391,-36.4407 387.5,-46.4407 394.5,-46.4406\" stroke=\"black\"/>\n",
       "</g>\n",
       "</g>\n",
       "</svg>"
      ],
      "text/plain": [
       "<IPython.core.display.SVG object>"
      ]
     },
     "execution_count": 69,
     "metadata": {},
     "output_type": "execute_result"
    }
   ],
   "source": [
    "SVG(theano.printing.pydotprint(f, return_image=True, format='svg'))"
   ]
  },
  {
   "cell_type": "code",
   "execution_count": 19,
   "metadata": {
    "collapsed": true,
    "slideshow": {
     "slide_type": "slide"
    }
   },
   "outputs": [],
   "source": [
    "X = T.vector()\n",
    "X = T.matrix()\n",
    "X = T.tensor3()\n",
    "X = T.tensor4()"
   ]
  },
  {
   "cell_type": "code",
   "execution_count": 20,
   "metadata": {
    "collapsed": true,
    "slideshow": {
     "slide_type": "slide"
    }
   },
   "outputs": [],
   "source": [
    "X = T.vector()"
   ]
  },
  {
   "cell_type": "code",
   "execution_count": 25,
   "metadata": {
    "collapsed": false
   },
   "outputs": [
    {
     "data": {
      "text/plain": [
       "Subtensor{int64:int64:int64}.0"
      ]
     },
     "execution_count": 25,
     "metadata": {},
     "output_type": "execute_result"
    }
   ],
   "source": [
    "X[1:-1:2]"
   ]
  },
  {
   "cell_type": "code",
   "execution_count": 24,
   "metadata": {
    "collapsed": false,
    "slideshow": {
     "slide_type": "fragment"
    }
   },
   "outputs": [
    {
     "data": {
      "text/plain": [
       "AdvancedSubtensor1.0"
      ]
     },
     "execution_count": 24,
     "metadata": {},
     "output_type": "execute_result"
    }
   ],
   "source": [
    "X[[1,2,3]]"
   ]
  },
  {
   "cell_type": "markdown",
   "metadata": {
    "slideshow": {
     "slide_type": "slide"
    }
   },
   "source": [
    "Many functions/operations available through `theano.tensor` or variable methods"
   ]
  },
  {
   "cell_type": "code",
   "execution_count": 74,
   "metadata": {
    "collapsed": false
   },
   "outputs": [],
   "source": [
    "y = X.argmax()"
   ]
  },
  {
   "cell_type": "code",
   "execution_count": 76,
   "metadata": {
    "collapsed": true
   },
   "outputs": [],
   "source": [
    "y = T.cosh(X)"
   ]
  },
  {
   "cell_type": "code",
   "execution_count": 78,
   "metadata": {
    "collapsed": false
   },
   "outputs": [],
   "source": [
    "y = T.outer(X, X)"
   ]
  },
  {
   "cell_type": "markdown",
   "metadata": {},
   "source": [
    "Don't try to use numpy functions on Theano variables!"
   ]
  },
  {
   "cell_type": "markdown",
   "metadata": {
    "slideshow": {
     "slide_type": "slide"
    }
   },
   "source": [
    "# Gradient"
   ]
  },
  {
   "cell_type": "code",
   "execution_count": 310,
   "metadata": {
    "collapsed": false
   },
   "outputs": [],
   "source": [
    "x = T.scalar()\n",
    "y = T.log(x)\n"
   ]
  },
  {
   "cell_type": "code",
   "execution_count": 319,
   "metadata": {
    "collapsed": false,
    "slideshow": {
     "slide_type": "fragment"
    }
   },
   "outputs": [
    {
     "data": {
      "text/plain": [
       "array(0.5, dtype=float32)"
      ]
     },
     "execution_count": 319,
     "metadata": {},
     "output_type": "execute_result"
    }
   ],
   "source": [
    "gradient = T.grad(y, x)\n",
    "gradient.eval({x: 2})"
   ]
  },
  {
   "cell_type": "code",
   "execution_count": 312,
   "metadata": {
    "collapsed": false,
    "slideshow": {
     "slide_type": "slide"
    }
   },
   "outputs": [],
   "source": [
    "f = theano.function([x], gradient)"
   ]
  },
  {
   "cell_type": "code",
   "execution_count": 316,
   "metadata": {
    "collapsed": false
   },
   "outputs": [
    {
     "data": {
      "image/svg+xml": [
       "<svg height=\"368pt\" viewBox=\"0.00 0.00 301.00 368.00\" width=\"301pt\" xmlns=\"http://www.w3.org/2000/svg\" xmlns:xlink=\"http://www.w3.org/1999/xlink\">\n",
       "<g class=\"graph\" id=\"graph0\" transform=\"scale(1 1) rotate(0) translate(4 364)\">\n",
       "<title>G</title>\n",
       "<polygon fill=\"white\" points=\"-4,4 -4,-364 297,-364 297,4 -4,4\" stroke=\"none\"/>\n",
       "<!-- 139743365497104 -->\n",
       "<g class=\"node\" id=\"node1\"><title>139743365497104</title>\n",
       "<ellipse cx=\"106\" cy=\"-268\" fill=\"red\" rx=\"61.6163\" ry=\"18\" stroke=\"black\"/>\n",
       "<text font-family=\"Times,serif\" font-size=\"14.00\" text-anchor=\"middle\" x=\"106\" y=\"-264.3\">GpuFromHost</text>\n",
       "</g>\n",
       "<!-- 139743365497680 -->\n",
       "<g class=\"node\" id=\"node3\"><title>139743365497680</title>\n",
       "<ellipse cx=\"106\" cy=\"-180\" fill=\"#ffaabb\" rx=\"106.386\" ry=\"18\" stroke=\"black\"/>\n",
       "<text font-family=\"Times,serif\" font-size=\"14.00\" text-anchor=\"middle\" x=\"106\" y=\"-176.3\">GpuElemwise{Inv}[(0, 0)]</text>\n",
       "</g>\n",
       "<!-- 139743365497104&#45;&gt;139743365497680 -->\n",
       "<g class=\"edge\" id=\"edge2\"><title>139743365497104-&gt;139743365497680</title>\n",
       "<path d=\"M106,-249.597C106,-237.746 106,-221.817 106,-208.292\" fill=\"none\" stroke=\"red\"/>\n",
       "<polygon fill=\"red\" points=\"109.5,-208.084 106,-198.084 102.5,-208.084 109.5,-208.084\" stroke=\"red\"/>\n",
       "<text font-family=\"Times,serif\" font-size=\"14.00\" text-anchor=\"middle\" x=\"199.5\" y=\"-220.3\">CudaNdarrayType(float32, scalar)</text>\n",
       "</g>\n",
       "<!-- 139743449339728 -->\n",
       "<g class=\"node\" id=\"node2\"><title>139743449339728</title>\n",
       "<polygon fill=\"green\" points=\"189.5,-360 22.5,-360 22.5,-324 189.5,-324 189.5,-360\" stroke=\"black\"/>\n",
       "<text font-family=\"Times,serif\" font-size=\"14.00\" text-anchor=\"middle\" x=\"106\" y=\"-338.3\">TensorType(float32, scalar)</text>\n",
       "</g>\n",
       "<!-- 139743449339728&#45;&gt;139743365497104 -->\n",
       "<g class=\"edge\" id=\"edge1\"><title>139743449339728-&gt;139743365497104</title>\n",
       "<path d=\"M106,-323.937C106,-315.807 106,-305.876 106,-296.705\" fill=\"none\" stroke=\"black\"/>\n",
       "<polygon fill=\"black\" points=\"109.5,-296.441 106,-286.441 102.5,-296.441 109.5,-296.441\" stroke=\"black\"/>\n",
       "</g>\n",
       "<!-- 139743365498128 -->\n",
       "<g class=\"node\" id=\"node4\"><title>139743365498128</title>\n",
       "<ellipse cx=\"106\" cy=\"-92\" fill=\"red\" rx=\"61.6163\" ry=\"18\" stroke=\"black\"/>\n",
       "<text font-family=\"Times,serif\" font-size=\"14.00\" text-anchor=\"middle\" x=\"106\" y=\"-88.3\">HostFromGpu</text>\n",
       "</g>\n",
       "<!-- 139743365497680&#45;&gt;139743365498128 -->\n",
       "<g class=\"edge\" id=\"edge3\"><title>139743365497680-&gt;139743365498128</title>\n",
       "<path d=\"M106,-161.597C106,-149.746 106,-133.817 106,-120.292\" fill=\"none\" stroke=\"black\"/>\n",
       "<polygon fill=\"black\" points=\"109.5,-120.084 106,-110.084 102.5,-120.084 109.5,-120.084\" stroke=\"black\"/>\n",
       "<text font-family=\"Times,serif\" font-size=\"14.00\" text-anchor=\"middle\" x=\"199.5\" y=\"-132.3\">CudaNdarrayType(float32, scalar)</text>\n",
       "</g>\n",
       "<!-- 139743365498064 -->\n",
       "<g class=\"node\" id=\"node5\"><title>139743365498064</title>\n",
       "<polygon fill=\"blue\" points=\"189.5,-36 22.5,-36 22.5,-0 189.5,-0 189.5,-36\" stroke=\"black\"/>\n",
       "<text font-family=\"Times,serif\" font-size=\"14.00\" text-anchor=\"middle\" x=\"106\" y=\"-14.3\">TensorType(float32, scalar)</text>\n",
       "</g>\n",
       "<!-- 139743365498128&#45;&gt;139743365498064 -->\n",
       "<g class=\"edge\" id=\"edge4\"><title>139743365498128-&gt;139743365498064</title>\n",
       "<path d=\"M106,-73.937C106,-65.8072 106,-55.8761 106,-46.7047\" fill=\"none\" stroke=\"black\"/>\n",
       "<polygon fill=\"black\" points=\"109.5,-46.4406 106,-36.4407 102.5,-46.4407 109.5,-46.4406\" stroke=\"black\"/>\n",
       "</g>\n",
       "</g>\n",
       "</svg>"
      ],
      "text/plain": [
       "<IPython.core.display.SVG object>"
      ]
     },
     "execution_count": 316,
     "metadata": {},
     "output_type": "execute_result"
    }
   ],
   "source": [
    "SVG(theano.printing.pydotprint(f, return_image=True, format='svg'))"
   ]
  },
  {
   "cell_type": "code",
   "execution_count": 318,
   "metadata": {
    "collapsed": false,
    "slideshow": {
     "slide_type": "fragment"
    }
   },
   "outputs": [
    {
     "data": {
      "text/plain": [
       "array(0.5, dtype=float32)"
      ]
     },
     "execution_count": 318,
     "metadata": {},
     "output_type": "execute_result"
    }
   ],
   "source": []
  },
  {
   "cell_type": "markdown",
   "metadata": {
    "slideshow": {
     "slide_type": "slide"
    }
   },
   "source": [
    "# Shared Variables\n",
    "\n",
    "- Symbolic + Storage"
   ]
  },
  {
   "cell_type": "code",
   "execution_count": 111,
   "metadata": {
    "collapsed": false
   },
   "outputs": [],
   "source": [
    "import numpy as np\n",
    "x = theano.shared(np.zeros((2, 3), dtype=theano.config.floatX))"
   ]
  },
  {
   "cell_type": "code",
   "execution_count": 112,
   "metadata": {
    "collapsed": false
   },
   "outputs": [
    {
     "data": {
      "text/plain": [
       "<CudaNdarrayType(float32, matrix)>"
      ]
     },
     "execution_count": 112,
     "metadata": {},
     "output_type": "execute_result"
    }
   ],
   "source": [
    "x"
   ]
  },
  {
   "cell_type": "code",
   "execution_count": 113,
   "metadata": {
    "collapsed": false,
    "slideshow": {
     "slide_type": "slide"
    }
   },
   "outputs": [
    {
     "name": "stdout",
     "output_type": "stream",
     "text": [
      "(2, 3)\n",
      "[[ 0.  0.  0.]\n",
      " [ 0.  0.  0.]]\n"
     ]
    }
   ],
   "source": [
    "values = x.get_value()\n",
    "print(values.shape)\n",
    "print(values)"
   ]
  },
  {
   "cell_type": "code",
   "execution_count": 117,
   "metadata": {
    "collapsed": false
   },
   "outputs": [],
   "source": [
    "x.set_value(values)"
   ]
  },
  {
   "cell_type": "code",
   "execution_count": 118,
   "metadata": {
    "collapsed": false,
    "slideshow": {
     "slide_type": "slide"
    }
   },
   "outputs": [
    {
     "data": {
      "text/plain": [
       "Elemwise{pow,no_inplace}.0"
      ]
     },
     "execution_count": 118,
     "metadata": {},
     "output_type": "execute_result"
    }
   ],
   "source": [
    "(x + 2) ** 2"
   ]
  },
  {
   "cell_type": "code",
   "execution_count": 120,
   "metadata": {
    "collapsed": false
   },
   "outputs": [
    {
     "data": {
      "text/plain": [
       "array([[ 4.,  4.,  4.],\n",
       "       [ 4.,  4.,  4.]], dtype=float32)"
      ]
     },
     "execution_count": 120,
     "metadata": {},
     "output_type": "execute_result"
    }
   ],
   "source": [
    "((x + 2) ** 2).eval()"
   ]
  },
  {
   "cell_type": "code",
   "execution_count": 122,
   "metadata": {
    "collapsed": false
   },
   "outputs": [
    {
     "data": {
      "text/plain": [
       "array([[ 4.,  4.,  4.],\n",
       "       [ 4.,  4.,  4.]], dtype=float32)"
      ]
     },
     "execution_count": 122,
     "metadata": {},
     "output_type": "execute_result"
    }
   ],
   "source": [
    "theano.function([], (x + 2) ** 2)()"
   ]
  },
  {
   "cell_type": "markdown",
   "metadata": {
    "slideshow": {
     "slide_type": "slide"
    }
   },
   "source": [
    "# Updates\n",
    "\n",
    "- Store results of function evalution\n",
    "- `dict` mapping shared variables to new values"
   ]
  },
  {
   "cell_type": "code",
   "execution_count": 138,
   "metadata": {
    "collapsed": false
   },
   "outputs": [],
   "source": [
    "count = theano.shared(0)\n",
    "new_count = count + 1\n",
    "updates = {count: new_count}\n",
    "\n",
    "f = theano.function([], count, updates=updates)"
   ]
  },
  {
   "cell_type": "code",
   "execution_count": 139,
   "metadata": {
    "collapsed": false,
    "slideshow": {
     "slide_type": "fragment"
    }
   },
   "outputs": [
    {
     "data": {
      "text/plain": [
       "array(0)"
      ]
     },
     "execution_count": 139,
     "metadata": {},
     "output_type": "execute_result"
    }
   ],
   "source": [
    "f()"
   ]
  },
  {
   "cell_type": "code",
   "execution_count": 140,
   "metadata": {
    "collapsed": false,
    "slideshow": {
     "slide_type": "-"
    }
   },
   "outputs": [
    {
     "data": {
      "text/plain": [
       "array(1)"
      ]
     },
     "execution_count": 140,
     "metadata": {},
     "output_type": "execute_result"
    }
   ],
   "source": [
    "f()"
   ]
  },
  {
   "cell_type": "code",
   "execution_count": 141,
   "metadata": {
    "collapsed": false,
    "slideshow": {
     "slide_type": "-"
    }
   },
   "outputs": [
    {
     "data": {
      "text/plain": [
       "array(2)"
      ]
     },
     "execution_count": 141,
     "metadata": {},
     "output_type": "execute_result"
    }
   ],
   "source": [
    "f()"
   ]
  },
  {
   "cell_type": "code",
   "execution_count": 144,
   "metadata": {
    "collapsed": true,
    "slideshow": {
     "slide_type": "slide"
    }
   },
   "outputs": [],
   "source": [
    "board = theano.shared(np.zeros((100, 100), dtype='uint8'))"
   ]
  },
  {
   "cell_type": "code",
   "execution_count": 194,
   "metadata": {
    "collapsed": false
   },
   "outputs": [],
   "source": [
    "neighbors = []\n",
    "neighbors.append(T.roll(board, 1, 0))\n",
    "neighbors.append(T.roll(board, 1, 1))\n",
    "neighbors.append(T.roll(board, -1, 0))\n",
    "neighbors.append(T.roll(board, -1, 1))\n",
    "neighbors.append(T.roll(T.roll(board, 1, 1), 1, 0))\n",
    "neighbors.append(T.roll(T.roll(board, 1, 1), -1, 0))\n",
    "neighbors.append(T.roll(T.roll(board, -1, 1), -1, 0))\n",
    "neighbors.append(T.roll(T.roll(board, -1, 1), 1, 0))\n",
    "alive_neighbors = sum(neighbors)"
   ]
  },
  {
   "cell_type": "code",
   "execution_count": 195,
   "metadata": {
    "collapsed": true
   },
   "outputs": [],
   "source": [
    "born = T.eq(board, 0) * T.eq(alive_neighbors, 3)"
   ]
  },
  {
   "cell_type": "code",
   "execution_count": 196,
   "metadata": {
    "collapsed": false
   },
   "outputs": [],
   "source": [
    "survived = T.eq(board, 1) * (T.eq(alive_neighbors, 2) + T.eq(alive_neighbors, 3))"
   ]
  },
  {
   "cell_type": "code",
   "execution_count": 198,
   "metadata": {
    "collapsed": true
   },
   "outputs": [],
   "source": [
    "new_board = T.cast(survived + born, 'uint8')"
   ]
  },
  {
   "cell_type": "code",
   "execution_count": 199,
   "metadata": {
    "collapsed": true
   },
   "outputs": [],
   "source": [
    "updates = {board: new_board}"
   ]
  },
  {
   "cell_type": "code",
   "execution_count": 200,
   "metadata": {
    "collapsed": false
   },
   "outputs": [],
   "source": [
    "f = theano.function([], board, updates=updates)"
   ]
  },
  {
   "cell_type": "code",
   "execution_count": 202,
   "metadata": {
    "collapsed": false
   },
   "outputs": [
    {
     "name": "stdout",
     "output_type": "stream",
     "text": [
      "10000 loops, best of 3: 73.4 µs per loop\n"
     ]
    }
   ],
   "source": [
    "%timeit f()"
   ]
  },
  {
   "cell_type": "code",
   "execution_count": 203,
   "metadata": {
    "collapsed": true
   },
   "outputs": [],
   "source": [
    "initial = np.random.binomial?"
   ]
  },
  {
   "cell_type": "code",
   "execution_count": 266,
   "metadata": {
    "collapsed": false
   },
   "outputs": [],
   "source": [
    "initial = np.random.binomial(1, 0.1, size=(100, 100)).astype('uint8')\n",
    "board.set_value(initial)"
   ]
  },
  {
   "cell_type": "code",
   "execution_count": 269,
   "metadata": {
    "collapsed": true
   },
   "outputs": [],
   "source": [
    "%matplotlib notebook\n",
    "import matplotlib.pyplot as plt"
   ]
  },
  {
   "cell_type": "code",
   "execution_count": 270,
   "metadata": {
    "collapsed": false
   },
   "outputs": [
    {
     "data": {
      "application/javascript": [
       "/* Put everything inside the global mpl namespace */\n",
       "window.mpl = {};\n",
       "\n",
       "mpl.get_websocket_type = function() {\n",
       "    if (typeof(WebSocket) !== 'undefined') {\n",
       "        return WebSocket;\n",
       "    } else if (typeof(MozWebSocket) !== 'undefined') {\n",
       "        return MozWebSocket;\n",
       "    } else {\n",
       "        alert('Your browser does not have WebSocket support.' +\n",
       "              'Please try Chrome, Safari or Firefox ≥ 6. ' +\n",
       "              'Firefox 4 and 5 are also supported but you ' +\n",
       "              'have to enable WebSockets in about:config.');\n",
       "    };\n",
       "}\n",
       "\n",
       "mpl.figure = function(figure_id, websocket, ondownload, parent_element) {\n",
       "    this.id = figure_id;\n",
       "\n",
       "    this.ws = websocket;\n",
       "\n",
       "    this.supports_binary = (this.ws.binaryType != undefined);\n",
       "\n",
       "    if (!this.supports_binary) {\n",
       "        var warnings = document.getElementById(\"mpl-warnings\");\n",
       "        if (warnings) {\n",
       "            warnings.style.display = 'block';\n",
       "            warnings.textContent = (\n",
       "                \"This browser does not support binary websocket messages. \" +\n",
       "                    \"Performance may be slow.\");\n",
       "        }\n",
       "    }\n",
       "\n",
       "    this.imageObj = new Image();\n",
       "\n",
       "    this.context = undefined;\n",
       "    this.message = undefined;\n",
       "    this.canvas = undefined;\n",
       "    this.rubberband_canvas = undefined;\n",
       "    this.rubberband_context = undefined;\n",
       "    this.format_dropdown = undefined;\n",
       "\n",
       "    this.image_mode = 'full';\n",
       "\n",
       "    this.root = $('<div/>');\n",
       "    this._root_extra_style(this.root)\n",
       "    this.root.attr('style', 'display: inline-block');\n",
       "\n",
       "    $(parent_element).append(this.root);\n",
       "\n",
       "    this._init_header(this);\n",
       "    this._init_canvas(this);\n",
       "    this._init_toolbar(this);\n",
       "\n",
       "    var fig = this;\n",
       "\n",
       "    this.waiting = false;\n",
       "\n",
       "    this.ws.onopen =  function () {\n",
       "            fig.send_message(\"supports_binary\", {value: fig.supports_binary});\n",
       "            fig.send_message(\"send_image_mode\", {});\n",
       "            fig.send_message(\"refresh\", {});\n",
       "        }\n",
       "\n",
       "    this.imageObj.onload = function() {\n",
       "            if (fig.image_mode == 'full') {\n",
       "                // Full images could contain transparency (where diff images\n",
       "                // almost always do), so we need to clear the canvas so that\n",
       "                // there is no ghosting.\n",
       "                fig.context.clearRect(0, 0, fig.canvas.width, fig.canvas.height);\n",
       "            }\n",
       "            fig.context.drawImage(fig.imageObj, 0, 0);\n",
       "            fig.waiting = false;\n",
       "        };\n",
       "\n",
       "    this.imageObj.onunload = function() {\n",
       "        this.ws.close();\n",
       "    }\n",
       "\n",
       "    this.ws.onmessage = this._make_on_message_function(this);\n",
       "\n",
       "    this.ondownload = ondownload;\n",
       "}\n",
       "\n",
       "mpl.figure.prototype._init_header = function() {\n",
       "    var titlebar = $(\n",
       "        '<div class=\"ui-dialog-titlebar ui-widget-header ui-corner-all ' +\n",
       "        'ui-helper-clearfix\"/>');\n",
       "    var titletext = $(\n",
       "        '<div class=\"ui-dialog-title\" style=\"width: 100%; ' +\n",
       "        'text-align: center; padding: 3px;\"/>');\n",
       "    titlebar.append(titletext)\n",
       "    this.root.append(titlebar);\n",
       "    this.header = titletext[0];\n",
       "}\n",
       "\n",
       "\n",
       "\n",
       "mpl.figure.prototype._canvas_extra_style = function(canvas_div) {\n",
       "\n",
       "}\n",
       "\n",
       "\n",
       "mpl.figure.prototype._root_extra_style = function(canvas_div) {\n",
       "\n",
       "}\n",
       "\n",
       "mpl.figure.prototype._init_canvas = function() {\n",
       "    var fig = this;\n",
       "\n",
       "    var canvas_div = $('<div/>');\n",
       "\n",
       "    canvas_div.attr('style', 'position: relative; clear: both; outline: 0');\n",
       "\n",
       "    function canvas_keyboard_event(event) {\n",
       "        return fig.key_event(event, event['data']);\n",
       "    }\n",
       "\n",
       "    canvas_div.keydown('key_press', canvas_keyboard_event);\n",
       "    canvas_div.keyup('key_release', canvas_keyboard_event);\n",
       "    this.canvas_div = canvas_div\n",
       "    this._canvas_extra_style(canvas_div)\n",
       "    this.root.append(canvas_div);\n",
       "\n",
       "    var canvas = $('<canvas/>');\n",
       "    canvas.addClass('mpl-canvas');\n",
       "    canvas.attr('style', \"left: 0; top: 0; z-index: 0; outline: 0\")\n",
       "\n",
       "    this.canvas = canvas[0];\n",
       "    this.context = canvas[0].getContext(\"2d\");\n",
       "\n",
       "    var rubberband = $('<canvas/>');\n",
       "    rubberband.attr('style', \"position: absolute; left: 0; top: 0; z-index: 1;\")\n",
       "\n",
       "    var pass_mouse_events = true;\n",
       "\n",
       "    canvas_div.resizable({\n",
       "        start: function(event, ui) {\n",
       "            pass_mouse_events = false;\n",
       "        },\n",
       "        resize: function(event, ui) {\n",
       "            fig.request_resize(ui.size.width, ui.size.height);\n",
       "        },\n",
       "        stop: function(event, ui) {\n",
       "            pass_mouse_events = true;\n",
       "            fig.request_resize(ui.size.width, ui.size.height);\n",
       "        },\n",
       "    });\n",
       "\n",
       "    function mouse_event_fn(event) {\n",
       "        if (pass_mouse_events)\n",
       "            return fig.mouse_event(event, event['data']);\n",
       "    }\n",
       "\n",
       "    rubberband.mousedown('button_press', mouse_event_fn);\n",
       "    rubberband.mouseup('button_release', mouse_event_fn);\n",
       "    // Throttle sequential mouse events to 1 every 20ms.\n",
       "    rubberband.mousemove('motion_notify', mouse_event_fn);\n",
       "\n",
       "    rubberband.mouseenter('figure_enter', mouse_event_fn);\n",
       "    rubberband.mouseleave('figure_leave', mouse_event_fn);\n",
       "\n",
       "    canvas_div.on(\"wheel\", function (event) {\n",
       "        event = event.originalEvent;\n",
       "        event['data'] = 'scroll'\n",
       "        if (event.deltaY < 0) {\n",
       "            event.step = 1;\n",
       "        } else {\n",
       "            event.step = -1;\n",
       "        }\n",
       "        mouse_event_fn(event);\n",
       "    });\n",
       "\n",
       "    canvas_div.append(canvas);\n",
       "    canvas_div.append(rubberband);\n",
       "\n",
       "    this.rubberband = rubberband;\n",
       "    this.rubberband_canvas = rubberband[0];\n",
       "    this.rubberband_context = rubberband[0].getContext(\"2d\");\n",
       "    this.rubberband_context.strokeStyle = \"#000000\";\n",
       "\n",
       "    this._resize_canvas = function(width, height) {\n",
       "        // Keep the size of the canvas, canvas container, and rubber band\n",
       "        // canvas in synch.\n",
       "        canvas_div.css('width', width)\n",
       "        canvas_div.css('height', height)\n",
       "\n",
       "        canvas.attr('width', width);\n",
       "        canvas.attr('height', height);\n",
       "\n",
       "        rubberband.attr('width', width);\n",
       "        rubberband.attr('height', height);\n",
       "    }\n",
       "\n",
       "    // Set the figure to an initial 600x600px, this will subsequently be updated\n",
       "    // upon first draw.\n",
       "    this._resize_canvas(600, 600);\n",
       "\n",
       "    // Disable right mouse context menu.\n",
       "    $(this.rubberband_canvas).bind(\"contextmenu\",function(e){\n",
       "        return false;\n",
       "    });\n",
       "\n",
       "    function set_focus () {\n",
       "        canvas.focus();\n",
       "        canvas_div.focus();\n",
       "    }\n",
       "\n",
       "    window.setTimeout(set_focus, 100);\n",
       "}\n",
       "\n",
       "mpl.figure.prototype._init_toolbar = function() {\n",
       "    var fig = this;\n",
       "\n",
       "    var nav_element = $('<div/>')\n",
       "    nav_element.attr('style', 'width: 100%');\n",
       "    this.root.append(nav_element);\n",
       "\n",
       "    // Define a callback function for later on.\n",
       "    function toolbar_event(event) {\n",
       "        return fig.toolbar_button_onclick(event['data']);\n",
       "    }\n",
       "    function toolbar_mouse_event(event) {\n",
       "        return fig.toolbar_button_onmouseover(event['data']);\n",
       "    }\n",
       "\n",
       "    for(var toolbar_ind in mpl.toolbar_items) {\n",
       "        var name = mpl.toolbar_items[toolbar_ind][0];\n",
       "        var tooltip = mpl.toolbar_items[toolbar_ind][1];\n",
       "        var image = mpl.toolbar_items[toolbar_ind][2];\n",
       "        var method_name = mpl.toolbar_items[toolbar_ind][3];\n",
       "\n",
       "        if (!name) {\n",
       "            // put a spacer in here.\n",
       "            continue;\n",
       "        }\n",
       "        var button = $('<button/>');\n",
       "        button.addClass('ui-button ui-widget ui-state-default ui-corner-all ' +\n",
       "                        'ui-button-icon-only');\n",
       "        button.attr('role', 'button');\n",
       "        button.attr('aria-disabled', 'false');\n",
       "        button.click(method_name, toolbar_event);\n",
       "        button.mouseover(tooltip, toolbar_mouse_event);\n",
       "\n",
       "        var icon_img = $('<span/>');\n",
       "        icon_img.addClass('ui-button-icon-primary ui-icon');\n",
       "        icon_img.addClass(image);\n",
       "        icon_img.addClass('ui-corner-all');\n",
       "\n",
       "        var tooltip_span = $('<span/>');\n",
       "        tooltip_span.addClass('ui-button-text');\n",
       "        tooltip_span.html(tooltip);\n",
       "\n",
       "        button.append(icon_img);\n",
       "        button.append(tooltip_span);\n",
       "\n",
       "        nav_element.append(button);\n",
       "    }\n",
       "\n",
       "    var fmt_picker_span = $('<span/>');\n",
       "\n",
       "    var fmt_picker = $('<select/>');\n",
       "    fmt_picker.addClass('mpl-toolbar-option ui-widget ui-widget-content');\n",
       "    fmt_picker_span.append(fmt_picker);\n",
       "    nav_element.append(fmt_picker_span);\n",
       "    this.format_dropdown = fmt_picker[0];\n",
       "\n",
       "    for (var ind in mpl.extensions) {\n",
       "        var fmt = mpl.extensions[ind];\n",
       "        var option = $(\n",
       "            '<option/>', {selected: fmt === mpl.default_extension}).html(fmt);\n",
       "        fmt_picker.append(option)\n",
       "    }\n",
       "\n",
       "    // Add hover states to the ui-buttons\n",
       "    $( \".ui-button\" ).hover(\n",
       "        function() { $(this).addClass(\"ui-state-hover\");},\n",
       "        function() { $(this).removeClass(\"ui-state-hover\");}\n",
       "    );\n",
       "\n",
       "    var status_bar = $('<span class=\"mpl-message\"/>');\n",
       "    nav_element.append(status_bar);\n",
       "    this.message = status_bar[0];\n",
       "}\n",
       "\n",
       "mpl.figure.prototype.request_resize = function(x_pixels, y_pixels) {\n",
       "    // Request matplotlib to resize the figure. Matplotlib will then trigger a resize in the client,\n",
       "    // which will in turn request a refresh of the image.\n",
       "    this.send_message('resize', {'width': x_pixels, 'height': y_pixels});\n",
       "}\n",
       "\n",
       "mpl.figure.prototype.send_message = function(type, properties) {\n",
       "    properties['type'] = type;\n",
       "    properties['figure_id'] = this.id;\n",
       "    this.ws.send(JSON.stringify(properties));\n",
       "}\n",
       "\n",
       "mpl.figure.prototype.send_draw_message = function() {\n",
       "    if (!this.waiting) {\n",
       "        this.waiting = true;\n",
       "        this.ws.send(JSON.stringify({type: \"draw\", figure_id: this.id}));\n",
       "    }\n",
       "}\n",
       "\n",
       "\n",
       "mpl.figure.prototype.handle_save = function(fig, msg) {\n",
       "    var format_dropdown = fig.format_dropdown;\n",
       "    var format = format_dropdown.options[format_dropdown.selectedIndex].value;\n",
       "    fig.ondownload(fig, format);\n",
       "}\n",
       "\n",
       "\n",
       "mpl.figure.prototype.handle_resize = function(fig, msg) {\n",
       "    var size = msg['size'];\n",
       "    if (size[0] != fig.canvas.width || size[1] != fig.canvas.height) {\n",
       "        fig._resize_canvas(size[0], size[1]);\n",
       "        fig.send_message(\"refresh\", {});\n",
       "    };\n",
       "}\n",
       "\n",
       "mpl.figure.prototype.handle_rubberband = function(fig, msg) {\n",
       "    var x0 = msg['x0'];\n",
       "    var y0 = fig.canvas.height - msg['y0'];\n",
       "    var x1 = msg['x1'];\n",
       "    var y1 = fig.canvas.height - msg['y1'];\n",
       "    x0 = Math.floor(x0) + 0.5;\n",
       "    y0 = Math.floor(y0) + 0.5;\n",
       "    x1 = Math.floor(x1) + 0.5;\n",
       "    y1 = Math.floor(y1) + 0.5;\n",
       "    var min_x = Math.min(x0, x1);\n",
       "    var min_y = Math.min(y0, y1);\n",
       "    var width = Math.abs(x1 - x0);\n",
       "    var height = Math.abs(y1 - y0);\n",
       "\n",
       "    fig.rubberband_context.clearRect(\n",
       "        0, 0, fig.canvas.width, fig.canvas.height);\n",
       "\n",
       "    fig.rubberband_context.strokeRect(min_x, min_y, width, height);\n",
       "}\n",
       "\n",
       "mpl.figure.prototype.handle_figure_label = function(fig, msg) {\n",
       "    // Updates the figure title.\n",
       "    fig.header.textContent = msg['label'];\n",
       "}\n",
       "\n",
       "mpl.figure.prototype.handle_cursor = function(fig, msg) {\n",
       "    var cursor = msg['cursor'];\n",
       "    switch(cursor)\n",
       "    {\n",
       "    case 0:\n",
       "        cursor = 'pointer';\n",
       "        break;\n",
       "    case 1:\n",
       "        cursor = 'default';\n",
       "        break;\n",
       "    case 2:\n",
       "        cursor = 'crosshair';\n",
       "        break;\n",
       "    case 3:\n",
       "        cursor = 'move';\n",
       "        break;\n",
       "    }\n",
       "    fig.rubberband_canvas.style.cursor = cursor;\n",
       "}\n",
       "\n",
       "mpl.figure.prototype.handle_message = function(fig, msg) {\n",
       "    fig.message.textContent = msg['message'];\n",
       "}\n",
       "\n",
       "mpl.figure.prototype.handle_draw = function(fig, msg) {\n",
       "    // Request the server to send over a new figure.\n",
       "    fig.send_draw_message();\n",
       "}\n",
       "\n",
       "mpl.figure.prototype.handle_image_mode = function(fig, msg) {\n",
       "    fig.image_mode = msg['mode'];\n",
       "}\n",
       "\n",
       "mpl.figure.prototype.updated_canvas_event = function() {\n",
       "    // Called whenever the canvas gets updated.\n",
       "    this.send_message(\"ack\", {});\n",
       "}\n",
       "\n",
       "// A function to construct a web socket function for onmessage handling.\n",
       "// Called in the figure constructor.\n",
       "mpl.figure.prototype._make_on_message_function = function(fig) {\n",
       "    return function socket_on_message(evt) {\n",
       "        if (evt.data instanceof Blob) {\n",
       "            /* FIXME: We get \"Resource interpreted as Image but\n",
       "             * transferred with MIME type text/plain:\" errors on\n",
       "             * Chrome.  But how to set the MIME type?  It doesn't seem\n",
       "             * to be part of the websocket stream */\n",
       "            evt.data.type = \"image/png\";\n",
       "\n",
       "            /* Free the memory for the previous frames */\n",
       "            if (fig.imageObj.src) {\n",
       "                (window.URL || window.webkitURL).revokeObjectURL(\n",
       "                    fig.imageObj.src);\n",
       "            }\n",
       "\n",
       "            fig.imageObj.src = (window.URL || window.webkitURL).createObjectURL(\n",
       "                evt.data);\n",
       "            fig.updated_canvas_event();\n",
       "            return;\n",
       "        }\n",
       "        else if (typeof evt.data === 'string' && evt.data.slice(0, 21) == \"data:image/png;base64\") {\n",
       "            fig.imageObj.src = evt.data;\n",
       "            fig.updated_canvas_event();\n",
       "            return;\n",
       "        }\n",
       "\n",
       "        var msg = JSON.parse(evt.data);\n",
       "        var msg_type = msg['type'];\n",
       "\n",
       "        // Call the  \"handle_{type}\" callback, which takes\n",
       "        // the figure and JSON message as its only arguments.\n",
       "        try {\n",
       "            var callback = fig[\"handle_\" + msg_type];\n",
       "        } catch (e) {\n",
       "            console.log(\"No handler for the '\" + msg_type + \"' message type: \", msg);\n",
       "            return;\n",
       "        }\n",
       "\n",
       "        if (callback) {\n",
       "            try {\n",
       "                // console.log(\"Handling '\" + msg_type + \"' message: \", msg);\n",
       "                callback(fig, msg);\n",
       "            } catch (e) {\n",
       "                console.log(\"Exception inside the 'handler_\" + msg_type + \"' callback:\", e, e.stack, msg);\n",
       "            }\n",
       "        }\n",
       "    };\n",
       "}\n",
       "\n",
       "// from http://stackoverflow.com/questions/1114465/getting-mouse-location-in-canvas\n",
       "mpl.findpos = function(e) {\n",
       "    //this section is from http://www.quirksmode.org/js/events_properties.html\n",
       "    var targ;\n",
       "    if (!e)\n",
       "        e = window.event;\n",
       "    if (e.target)\n",
       "        targ = e.target;\n",
       "    else if (e.srcElement)\n",
       "        targ = e.srcElement;\n",
       "    if (targ.nodeType == 3) // defeat Safari bug\n",
       "        targ = targ.parentNode;\n",
       "\n",
       "    // jQuery normalizes the pageX and pageY\n",
       "    // pageX,Y are the mouse positions relative to the document\n",
       "    // offset() returns the position of the element relative to the document\n",
       "    var x = e.pageX - $(targ).offset().left;\n",
       "    var y = e.pageY - $(targ).offset().top;\n",
       "\n",
       "    return {\"x\": x, \"y\": y};\n",
       "};\n",
       "\n",
       "mpl.figure.prototype.mouse_event = function(event, name) {\n",
       "    var canvas_pos = mpl.findpos(event)\n",
       "\n",
       "    if (name === 'button_press')\n",
       "    {\n",
       "        this.canvas.focus();\n",
       "        this.canvas_div.focus();\n",
       "    }\n",
       "\n",
       "    var x = canvas_pos.x;\n",
       "    var y = canvas_pos.y;\n",
       "\n",
       "    this.send_message(name, {x: x, y: y, button: event.button,\n",
       "                             step: event.step});\n",
       "\n",
       "    /* This prevents the web browser from automatically changing to\n",
       "     * the text insertion cursor when the button is pressed.  We want\n",
       "     * to control all of the cursor setting manually through the\n",
       "     * 'cursor' event from matplotlib */\n",
       "    event.preventDefault();\n",
       "    return false;\n",
       "}\n",
       "\n",
       "mpl.figure.prototype._key_event_extra = function(event, name) {\n",
       "    // Handle any extra behaviour associated with a key event\n",
       "}\n",
       "\n",
       "mpl.figure.prototype.key_event = function(event, name) {\n",
       "\n",
       "    // Prevent repeat events\n",
       "    if (name == 'key_press')\n",
       "    {\n",
       "        if (event.which === this._key)\n",
       "            return;\n",
       "        else\n",
       "            this._key = event.which;\n",
       "    }\n",
       "    if (name == 'key_release')\n",
       "        this._key = null;\n",
       "\n",
       "    var value = '';\n",
       "    if (event.ctrlKey && event.which != 17)\n",
       "        value += \"ctrl+\";\n",
       "    if (event.altKey && event.which != 18)\n",
       "        value += \"alt+\";\n",
       "    if (event.shiftKey && event.which != 16)\n",
       "        value += \"shift+\";\n",
       "\n",
       "    value += 'k';\n",
       "    value += event.which.toString();\n",
       "\n",
       "    this._key_event_extra(event, name);\n",
       "\n",
       "    this.send_message(name, {key: value});\n",
       "    return false;\n",
       "}\n",
       "\n",
       "mpl.figure.prototype.toolbar_button_onclick = function(name) {\n",
       "    if (name == 'download') {\n",
       "        this.handle_save(this, null);\n",
       "    } else {\n",
       "        this.send_message(\"toolbar_button\", {name: name});\n",
       "    }\n",
       "};\n",
       "\n",
       "mpl.figure.prototype.toolbar_button_onmouseover = function(tooltip) {\n",
       "    this.message.textContent = tooltip;\n",
       "};\n",
       "mpl.toolbar_items = [[\"Home\", \"Reset original view\", \"fa fa-home icon-home\", \"home\"], [\"Back\", \"Back to  previous view\", \"fa fa-arrow-left icon-arrow-left\", \"back\"], [\"Forward\", \"Forward to next view\", \"fa fa-arrow-right icon-arrow-right\", \"forward\"], [\"\", \"\", \"\", \"\"], [\"Pan\", \"Pan axes with left mouse, zoom with right\", \"fa fa-arrows icon-move\", \"pan\"], [\"Zoom\", \"Zoom to rectangle\", \"fa fa-square-o icon-check-empty\", \"zoom\"], [\"\", \"\", \"\", \"\"], [\"Download\", \"Download plot\", \"fa fa-floppy-o icon-save\", \"download\"]];\n",
       "\n",
       "mpl.extensions = [\"eps\", \"jpeg\", \"pdf\", \"png\", \"ps\", \"raw\", \"svg\", \"tif\"];\n",
       "\n",
       "mpl.default_extension = \"png\";var comm_websocket_adapter = function(comm) {\n",
       "    // Create a \"websocket\"-like object which calls the given IPython comm\n",
       "    // object with the appropriate methods. Currently this is a non binary\n",
       "    // socket, so there is still some room for performance tuning.\n",
       "    var ws = {};\n",
       "\n",
       "    ws.close = function() {\n",
       "        comm.close()\n",
       "    };\n",
       "    ws.send = function(m) {\n",
       "        //console.log('sending', m);\n",
       "        comm.send(m);\n",
       "    };\n",
       "    // Register the callback with on_msg.\n",
       "    comm.on_msg(function(msg) {\n",
       "        //console.log('receiving', msg['content']['data'], msg);\n",
       "        // Pass the mpl event to the overriden (by mpl) onmessage function.\n",
       "        ws.onmessage(msg['content']['data'])\n",
       "    });\n",
       "    return ws;\n",
       "}\n",
       "\n",
       "mpl.mpl_figure_comm = function(comm, msg) {\n",
       "    // This is the function which gets called when the mpl process\n",
       "    // starts-up an IPython Comm through the \"matplotlib\" channel.\n",
       "\n",
       "    var id = msg.content.data.id;\n",
       "    // Get hold of the div created by the display call when the Comm\n",
       "    // socket was opened in Python.\n",
       "    var element = $(\"#\" + id);\n",
       "    var ws_proxy = comm_websocket_adapter(comm)\n",
       "\n",
       "    function ondownload(figure, format) {\n",
       "        window.open(figure.imageObj.src);\n",
       "    }\n",
       "\n",
       "    var fig = new mpl.figure(id, ws_proxy,\n",
       "                           ondownload,\n",
       "                           element.get(0));\n",
       "\n",
       "    // Call onopen now - mpl needs it, as it is assuming we've passed it a real\n",
       "    // web socket which is closed, not our websocket->open comm proxy.\n",
       "    ws_proxy.onopen();\n",
       "\n",
       "    fig.parent_element = element.get(0);\n",
       "    fig.cell_info = mpl.find_output_cell(\"<div id='\" + id + \"'></div>\");\n",
       "    if (!fig.cell_info) {\n",
       "        console.error(\"Failed to find cell for figure\", id, fig);\n",
       "        return;\n",
       "    }\n",
       "\n",
       "    var output_index = fig.cell_info[2]\n",
       "    var cell = fig.cell_info[0];\n",
       "\n",
       "};\n",
       "\n",
       "mpl.figure.prototype.handle_close = function(fig, msg) {\n",
       "    // Update the output cell to use the data from the current canvas.\n",
       "    fig.push_to_output();\n",
       "    var dataURL = fig.canvas.toDataURL();\n",
       "    // Re-enable the keyboard manager in IPython - without this line, in FF,\n",
       "    // the notebook keyboard shortcuts fail.\n",
       "    IPython.keyboard_manager.enable()\n",
       "    $(fig.parent_element).html('<img src=\"' + dataURL + '\">');\n",
       "    fig.send_message('closing', {});\n",
       "    fig.ws.close()\n",
       "}\n",
       "\n",
       "mpl.figure.prototype.push_to_output = function(remove_interactive) {\n",
       "    // Turn the data on the canvas into data in the output cell.\n",
       "    var dataURL = this.canvas.toDataURL();\n",
       "    this.cell_info[1]['text/html'] = '<img src=\"' + dataURL + '\">';\n",
       "}\n",
       "\n",
       "mpl.figure.prototype.updated_canvas_event = function() {\n",
       "    // Tell IPython that the notebook contents must change.\n",
       "    IPython.notebook.set_dirty(true);\n",
       "    this.send_message(\"ack\", {});\n",
       "    var fig = this;\n",
       "    // Wait a second, then push the new image to the DOM so\n",
       "    // that it is saved nicely (might be nice to debounce this).\n",
       "    setTimeout(function () { fig.push_to_output() }, 1000);\n",
       "}\n",
       "\n",
       "mpl.figure.prototype._init_toolbar = function() {\n",
       "    var fig = this;\n",
       "\n",
       "    var nav_element = $('<div/>')\n",
       "    nav_element.attr('style', 'width: 100%');\n",
       "    this.root.append(nav_element);\n",
       "\n",
       "    // Define a callback function for later on.\n",
       "    function toolbar_event(event) {\n",
       "        return fig.toolbar_button_onclick(event['data']);\n",
       "    }\n",
       "    function toolbar_mouse_event(event) {\n",
       "        return fig.toolbar_button_onmouseover(event['data']);\n",
       "    }\n",
       "\n",
       "    for(var toolbar_ind in mpl.toolbar_items){\n",
       "        var name = mpl.toolbar_items[toolbar_ind][0];\n",
       "        var tooltip = mpl.toolbar_items[toolbar_ind][1];\n",
       "        var image = mpl.toolbar_items[toolbar_ind][2];\n",
       "        var method_name = mpl.toolbar_items[toolbar_ind][3];\n",
       "\n",
       "        if (!name) { continue; };\n",
       "\n",
       "        var button = $('<button class=\"btn btn-default\" href=\"#\" title=\"' + name + '\"><i class=\"fa ' + image + ' fa-lg\"></i></button>');\n",
       "        button.click(method_name, toolbar_event);\n",
       "        button.mouseover(tooltip, toolbar_mouse_event);\n",
       "        nav_element.append(button);\n",
       "    }\n",
       "\n",
       "    // Add the status bar.\n",
       "    var status_bar = $('<span class=\"mpl-message\" style=\"text-align:right; float: right;\"/>');\n",
       "    nav_element.append(status_bar);\n",
       "    this.message = status_bar[0];\n",
       "\n",
       "    // Add the close button to the window.\n",
       "    var buttongrp = $('<div class=\"btn-group inline pull-right\"></div>');\n",
       "    var button = $('<button class=\"btn btn-mini btn-danger\" href=\"#\" title=\"Close figure\"><i class=\"fa fa-times icon-remove icon-large\"></i></button>');\n",
       "    button.click(function (evt) { fig.handle_close(fig, {}); } );\n",
       "    button.mouseover('Close figure', toolbar_mouse_event);\n",
       "    buttongrp.append(button);\n",
       "    var titlebar = this.root.find($('.ui-dialog-titlebar'));\n",
       "    titlebar.prepend(buttongrp);\n",
       "}\n",
       "\n",
       "\n",
       "mpl.figure.prototype._canvas_extra_style = function(el){\n",
       "    // this is important to make the div 'focusable\n",
       "    el.attr('tabindex', 0)\n",
       "    // reach out to IPython and tell the keyboard manager to turn it's self\n",
       "    // off when our div gets focus\n",
       "\n",
       "    // location in version 3\n",
       "    if (IPython.notebook.keyboard_manager) {\n",
       "        IPython.notebook.keyboard_manager.register_events(el);\n",
       "    }\n",
       "    else {\n",
       "        // location in version 2\n",
       "        IPython.keyboard_manager.register_events(el);\n",
       "    }\n",
       "\n",
       "}\n",
       "\n",
       "mpl.figure.prototype._key_event_extra = function(event, name) {\n",
       "    var manager = IPython.notebook.keyboard_manager;\n",
       "    if (!manager)\n",
       "        manager = IPython.keyboard_manager;\n",
       "\n",
       "    // Check for shift+enter\n",
       "    if (event.shiftKey && event.which == 13) {\n",
       "        this.canvas_div.blur();\n",
       "        event.shiftKey = false;\n",
       "        // Send a \"J\" for go to next cell\n",
       "        event.which = 74;\n",
       "        event.keyCode = 74;\n",
       "        manager.command_mode();\n",
       "        manager.handle_keydown(event);\n",
       "    }\n",
       "}\n",
       "\n",
       "mpl.figure.prototype.handle_save = function(fig, msg) {\n",
       "    fig.ondownload(fig, null);\n",
       "}\n",
       "\n",
       "\n",
       "mpl.find_output_cell = function(html_output) {\n",
       "    // Return the cell and output element which can be found *uniquely* in the notebook.\n",
       "    // Note - this is a bit hacky, but it is done because the \"notebook_saving.Notebook\"\n",
       "    // IPython event is triggered only after the cells have been serialised, which for\n",
       "    // our purposes (turning an active figure into a static one), is too late.\n",
       "    var cells = IPython.notebook.get_cells();\n",
       "    var ncells = cells.length;\n",
       "    for (var i=0; i<ncells; i++) {\n",
       "        var cell = cells[i];\n",
       "        if (cell.cell_type === 'code'){\n",
       "            for (var j=0; j<cell.output_area.outputs.length; j++) {\n",
       "                var data = cell.output_area.outputs[j];\n",
       "                if (data.data) {\n",
       "                    // IPython >= 3 moved mimebundle to data attribute of output\n",
       "                    data = data.data;\n",
       "                }\n",
       "                if (data['text/html'] == html_output) {\n",
       "                    return [cell, data, j];\n",
       "                }\n",
       "            }\n",
       "        }\n",
       "    }\n",
       "}\n",
       "\n",
       "// Register the function which deals with the matplotlib target/channel.\n",
       "// The kernel may be null if the page has been refreshed.\n",
       "if (IPython.notebook.kernel != null) {\n",
       "    IPython.notebook.kernel.comm_manager.register_target('matplotlib', mpl.mpl_figure_comm);\n",
       "}\n"
      ],
      "text/plain": [
       "<IPython.core.display.Javascript object>"
      ]
     },
     "metadata": {},
     "output_type": "display_data"
    },
    {
     "data": {
      "text/html": [
       "<img src=\"data:image/png;base64,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\">"
      ],
      "text/plain": [
       "<IPython.core.display.HTML object>"
      ]
     },
     "metadata": {},
     "output_type": "display_data"
    },
    {
     "data": {
      "text/plain": [
       "<matplotlib.image.AxesImage at 0x7f18899a1450>"
      ]
     },
     "execution_count": 270,
     "metadata": {},
     "output_type": "execute_result"
    }
   ],
   "source": [
    "plt.imshow(initial, interpolation='nearest', cmap='gray')"
   ]
  },
  {
   "cell_type": "code",
   "execution_count": 320,
   "metadata": {
    "collapsed": false,
    "slideshow": {
     "slide_type": "slide"
    }
   },
   "outputs": [
    {
     "ename": "TypeError",
     "evalue": "Missing required input: <TensorType(float32, scalar)>",
     "output_type": "error",
     "traceback": [
      "\u001b[1;31m---------------------------------------------------------------------------\u001b[0m",
      "\u001b[1;31mTypeError\u001b[0m                                 Traceback (most recent call last)",
      "\u001b[1;32m<ipython-input-320-8ec54e29bafb>\u001b[0m in \u001b[0;36m<module>\u001b[1;34m()\u001b[0m\n\u001b[0;32m      4\u001b[0m \u001b[1;32mfor\u001b[0m \u001b[0mi\u001b[0m \u001b[1;32min\u001b[0m \u001b[0mrange\u001b[0m\u001b[1;33m(\u001b[0m\u001b[1;36m50\u001b[0m\u001b[1;33m)\u001b[0m\u001b[1;33m:\u001b[0m\u001b[1;33m\u001b[0m\u001b[0m\n\u001b[0;32m      5\u001b[0m     \u001b[0mplt\u001b[0m\u001b[1;33m.\u001b[0m\u001b[0mgca\u001b[0m\u001b[1;33m(\u001b[0m\u001b[1;33m)\u001b[0m\u001b[1;33m.\u001b[0m\u001b[0mcla\u001b[0m\u001b[1;33m(\u001b[0m\u001b[1;33m)\u001b[0m\u001b[1;33m\u001b[0m\u001b[0m\n\u001b[1;32m----> 6\u001b[1;33m     \u001b[0mcurrent\u001b[0m \u001b[1;33m=\u001b[0m \u001b[0mf\u001b[0m\u001b[1;33m(\u001b[0m\u001b[1;33m)\u001b[0m\u001b[1;33m\u001b[0m\u001b[0m\n\u001b[0m\u001b[0;32m      7\u001b[0m     \u001b[0mplt\u001b[0m\u001b[1;33m.\u001b[0m\u001b[0mimshow\u001b[0m\u001b[1;33m(\u001b[0m\u001b[0mcurrent\u001b[0m\u001b[1;33m,\u001b[0m \u001b[0minterpolation\u001b[0m\u001b[1;33m=\u001b[0m\u001b[1;34m'nearest'\u001b[0m\u001b[1;33m,\u001b[0m \u001b[0mcmap\u001b[0m\u001b[1;33m=\u001b[0m\u001b[1;34m'gray'\u001b[0m\u001b[1;33m)\u001b[0m\u001b[1;33m\u001b[0m\u001b[0m\n\u001b[0;32m      8\u001b[0m     \u001b[0mdisplay\u001b[0m\u001b[1;33m.\u001b[0m\u001b[0mclear_output\u001b[0m\u001b[1;33m(\u001b[0m\u001b[0mwait\u001b[0m\u001b[1;33m=\u001b[0m\u001b[0mTrue\u001b[0m\u001b[1;33m)\u001b[0m\u001b[1;33m\u001b[0m\u001b[0m\n",
      "\u001b[1;32m/home/eben/venv/local/lib/python2.7/site-packages/Theano-0.7.0-py2.7.egg/theano/compile/function_module.pyc\u001b[0m in \u001b[0;36m__call__\u001b[1;34m(self, *args, **kwargs)\u001b[0m\n\u001b[0;32m    843\u001b[0m                     raise TypeError(\"Missing required input: %s\" %\n\u001b[0;32m    844\u001b[0m                                     getattr(self.inv_finder[c], 'variable',\n\u001b[1;32m--> 845\u001b[1;33m                                             self.inv_finder[c]))\n\u001b[0m\u001b[0;32m    846\u001b[0m                 \u001b[1;32mif\u001b[0m \u001b[0mc\u001b[0m\u001b[1;33m.\u001b[0m\u001b[0mprovided\u001b[0m \u001b[1;33m>\u001b[0m \u001b[1;36m1\u001b[0m\u001b[1;33m:\u001b[0m\u001b[1;33m\u001b[0m\u001b[0m\n\u001b[0;32m    847\u001b[0m                     raise TypeError(\"Multiple values for input: %s\" %\n",
      "\u001b[1;31mTypeError\u001b[0m: Missing required input: <TensorType(float32, scalar)>"
     ]
    }
   ],
   "source": [
    "from IPython import display\n",
    "import time\n",
    "\n",
    "for i in range(50):\n",
    "    plt.gca().cla()\n",
    "    current = f()\n",
    "    plt.imshow(current, interpolation='nearest', cmap='gray')\n",
    "    display.clear_output(wait=True)\n",
    "    display.display(plt.gcf()) \n",
    "    time.sleep(0.1) "
   ]
  },
  {
   "cell_type": "code",
   "execution_count": 277,
   "metadata": {
    "collapsed": true
   },
   "outputs": [],
   "source": [
    "np.roll?"
   ]
  },
  {
   "cell_type": "code",
   "execution_count": 279,
   "metadata": {
    "collapsed": false
   },
   "outputs": [],
   "source": [
    "board = np.zeros((100, 100))\n",
    "\n",
    "neighbors = []\n",
    "neighbors.append(np.roll(board, 0, -1))\n",
    "neighbors.append(np.roll(board, 0, 1))\n",
    "neighbors.append(np.roll(board, 1, -1))\n",
    "neighbors.append(np.roll(board, 1, 1))\n",
    "neighbors.append(np.roll(np.roll(board, 0, -1), 1, -1))\n",
    "neighbors.append(np.roll(np.roll(board, 0, 1), 1, 1))\n",
    "neighbors.append(np.roll(np.roll(board, 0, -1), 1, 1))\n",
    "neighbors.append(np.roll(np.roll(board, 0, 1), 1, -1))\n",
    "                 \n",
    "alive_neighbors = sum(neighbors)"
   ]
  },
  {
   "cell_type": "code",
   "execution_count": 282,
   "metadata": {
    "collapsed": false
   },
   "outputs": [],
   "source": [
    "born = (board == 0) * (alive_neighbors == 3)\n",
    "survived = (board == 1) * ((alive_neighbors == 2) + (alive_neighbors == 3))"
   ]
  },
  {
   "cell_type": "code",
   "execution_count": 283,
   "metadata": {
    "collapsed": true
   },
   "outputs": [],
   "source": [
    "new_board = born + survived"
   ]
  },
  {
   "cell_type": "code",
   "execution_count": 287,
   "metadata": {
    "collapsed": true
   },
   "outputs": [],
   "source": [
    "def update(board):\n",
    "    neighbors = []\n",
    "    neighbors.append(np.roll(board, 0, -1))\n",
    "    neighbors.append(np.roll(board, 0, 1))\n",
    "    neighbors.append(np.roll(board, 1, -1))\n",
    "    neighbors.append(np.roll(board, 1, 1))\n",
    "    neighbors.append(np.roll(np.roll(board, 0, -1), 1, -1))\n",
    "    neighbors.append(np.roll(np.roll(board, 0, 1), 1, 1))\n",
    "    neighbors.append(np.roll(np.roll(board, 0, -1), 1, 1))\n",
    "    neighbors.append(np.roll(np.roll(board, 0, 1), 1, -1))\n",
    "\n",
    "    alive_neighbors = sum(neighbors)\n",
    "\n",
    "    born = 1 * (board == 0) * (alive_neighbors == 3)\n",
    "    survived = 1 * (board == 1) * ((alive_neighbors == 2) + (alive_neighbors == 3))\n",
    "\n",
    "    new_board = born + survived\n",
    "    \n",
    "    return new_board"
   ]
  },
  {
   "cell_type": "code",
   "execution_count": 289,
   "metadata": {
    "collapsed": false
   },
   "outputs": [
    {
     "name": "stdout",
     "output_type": "stream",
     "text": [
      "1000 loops, best of 3: 424 µs per loop\n"
     ]
    }
   ],
   "source": [
    "%timeit update(initial)"
   ]
  },
  {
   "cell_type": "code",
   "execution_count": null,
   "metadata": {
    "collapsed": true
   },
   "outputs": [],
   "source": []
  }
 ],
 "metadata": {
  "celltoolbar": "Slideshow",
  "kernelspec": {
   "display_name": "Python 2",
   "language": "python",
   "name": "python2"
  },
  "language_info": {
   "codemirror_mode": {
    "name": "ipython",
    "version": 2
   },
   "file_extension": ".py",
   "mimetype": "text/x-python",
   "name": "python",
   "nbconvert_exporter": "python",
   "pygments_lexer": "ipython2",
   "version": "2.7.6"
  }
 },
 "nbformat": 4,
 "nbformat_minor": 0
}
