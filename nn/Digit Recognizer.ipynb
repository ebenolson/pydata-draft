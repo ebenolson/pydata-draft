{
 "cells": [
  {
   "cell_type": "code",
   "execution_count": 806,
   "metadata": {
    "collapsed": false,
    "slideshow": {
     "slide_type": "slide"
    }
   },
   "outputs": [],
   "source": [
    "import numpy as np\n",
    "import theano\n",
    "import theano.tensor as T\n",
    "import lasagne\n",
    "\n",
    "import matplotlib.pyplot as plt\n",
    "%matplotlib inline\n",
    "\n",
    "import gzip\n",
    "import pickle"
   ]
  },
  {
   "cell_type": "code",
   "execution_count": 804,
   "metadata": {
    "collapsed": false,
    "slideshow": {
     "slide_type": "slide"
    }
   },
   "outputs": [
    {
     "name": "stdout",
     "output_type": "stream",
     "text": [
      "--2015-11-06 17:22:26--  http://deeplearning.net/data/mnist/mnist.pkl.gz\n",
      "Resolving deeplearning.net (deeplearning.net)... 132.204.26.28\n",
      "Connecting to deeplearning.net (deeplearning.net)|132.204.26.28|:80... connected.\n",
      "HTTP request sent, awaiting response... 200 OK\n",
      "Length: 16168813 (15M) [application/x-gzip]\n",
      "Server file no newer than local file ‘mnist.pkl.gz’ -- not retrieving.\n",
      "\n"
     ]
    }
   ],
   "source": [
    "!wget -N http://deeplearning.net/data/mnist/mnist.pkl.gz"
   ]
  },
  {
   "cell_type": "code",
   "execution_count": 805,
   "metadata": {
    "collapsed": true,
    "slideshow": {
     "slide_type": "slide"
    }
   },
   "outputs": [],
   "source": [
    "train, val, test = pickle.load(gzip.open('mnist.pkl.gz'))\n",
    "\n",
    "X_train, y_train = train\n",
    "X_val, y_val = val"
   ]
  },
  {
   "cell_type": "code",
   "execution_count": 11,
   "metadata": {
    "collapsed": false,
    "slideshow": {
     "slide_type": "fragment"
    }
   },
   "outputs": [
    {
     "data": {
      "text/plain": [
       "(50000, 784)"
      ]
     },
     "execution_count": 11,
     "metadata": {},
     "output_type": "execute_result"
    }
   ],
   "source": [
    "X_train.shape"
   ]
  },
  {
   "cell_type": "code",
   "execution_count": 807,
   "metadata": {
    "collapsed": false,
    "slideshow": {
     "slide_type": "slide"
    }
   },
   "outputs": [
    {
     "data": {
      "image/png": "[encoded data removed]",
      "text/plain": [
       "<matplotlib.figure.Figure at 0x7f3b36022b10>"
      ]
     },
     "metadata": {},
     "output_type": "display_data"
    }
   ],
   "source": [
    "plt.figure(figsize=(12,3))\n",
    "for i in range(16):\n",
    "    plt.subplot(1, 16, i)\n",
    "    plt.imshow(X_train[i].reshape((28, 28)), cmap='gray', interpolation='nearest')\n",
    "    plt.axis('off')"
   ]
  },
  {
   "cell_type": "code",
   "execution_count": 808,
   "metadata": {
    "collapsed": true,
    "slideshow": {
     "slide_type": "slide"
    }
   },
   "outputs": [],
   "source": [
    "l_in = lasagne.layers.InputLayer((None, 784))\n",
    "l_out = lasagne.layers.DenseLayer(\n",
    "    l_in,\n",
    "    num_units=10,\n",
    "    nonlinearity=lasagne.nonlinearities.softmax)"
   ]
  },
  {
   "cell_type": "code",
   "execution_count": 812,
   "metadata": {
    "collapsed": true,
    "slideshow": {
     "slide_type": "slide"
    }
   },
   "outputs": [],
   "source": [
    "X_sym = T.matrix()\n",
    "y_sym = T.ivector()"
   ]
  },
  {
   "cell_type": "code",
   "execution_count": 813,
   "metadata": {
    "collapsed": true,
    "slideshow": {
     "slide_type": "fragment"
    }
   },
   "outputs": [],
   "source": [
    "output = lasagne.layers.get_output(l_out, X_sym)\n",
    "pred = output.argmax(-1)"
   ]
  },
  {
   "cell_type": "code",
   "execution_count": 814,
   "metadata": {
    "collapsed": false,
    "slideshow": {
     "slide_type": "fragment"
    }
   },
   "outputs": [],
   "source": [
    "loss = T.mean(lasagne.objectives.categorical_crossentropy(output, y_sym))\n",
    "\n",
    "#l2_penalty = lasagne.regularization.regularize_layer_params(\n",
    "#    l_out, lasagne.regularization.l2) * 1e-3\n",
    "#loss += l2_penalty\n",
    "\n",
    "acc = T.mean(T.eq(pred, y_sym))"
   ]
  },
  {
   "cell_type": "code",
   "execution_count": 815,
   "metadata": {
    "collapsed": true,
    "slideshow": {
     "slide_type": "slide"
    }
   },
   "outputs": [],
   "source": [
    "params = lasagne.layers.get_all_params(l_out)"
   ]
  },
  {
   "cell_type": "code",
   "execution_count": 816,
   "metadata": {
    "collapsed": false,
    "slideshow": {
     "slide_type": "fragment"
    }
   },
   "outputs": [
    {
     "data": {
      "text/plain": [
       "[W, b]"
      ]
     },
     "execution_count": 816,
     "metadata": {},
     "output_type": "execute_result"
    }
   ],
   "source": [
    "params"
   ]
  },
  {
   "cell_type": "code",
   "execution_count": 817,
   "metadata": {
    "collapsed": false,
    "slideshow": {
     "slide_type": "fragment"
    }
   },
   "outputs": [],
   "source": [
    "grad = T.grad(loss, params)\n",
    "updates = lasagne.updates.sgd(grad, params, learning_rate=0.01)"
   ]
  },
  {
   "cell_type": "code",
   "execution_count": 793,
   "metadata": {
    "collapsed": false,
    "slideshow": {
     "slide_type": "slide"
    }
   },
   "outputs": [],
   "source": [
    "f_train = theano.function([X_sym, y_sym], [loss, acc], updates=updates)\n",
    "f_val = theano.function([X_sym, y_sym], [loss, acc])\n",
    "f_predict = theano.function([X_sym], pred)"
   ]
  },
  {
   "cell_type": "code",
   "execution_count": 794,
   "metadata": {
    "collapsed": true
   },
   "outputs": [],
   "source": [
    "def batch_gen(X, y, N):\n",
    "    while True:\n",
    "        idx = np.random.choice(len(y), N)\n",
    "        yield X[idx].astype('float32'), y[idx].astype('int32')"
   ]
  },
  {
   "cell_type": "code",
   "execution_count": 795,
   "metadata": {
    "collapsed": false
   },
   "outputs": [],
   "source": [
    "train_batches = batch_gen(X_train, y_train, BATCH_SIZE)\n",
    "val_batches = batch_gen(X_val, y_val, BATCH_SIZE)"
   ]
  },
  {
   "cell_type": "code",
   "execution_count": 796,
   "metadata": {
    "collapsed": true
   },
   "outputs": [],
   "source": [
    "X, y = next(train_batches)"
   ]
  },
  {
   "cell_type": "code",
   "execution_count": 797,
   "metadata": {
    "collapsed": false
   },
   "outputs": [
    {
     "name": "stdout",
     "output_type": "stream",
     "text": [
      "0\n"
     ]
    },
    {
     "data": {
      "image/png": "[encoded data removed]",
      "text/plain": [
       "<matplotlib.figure.Figure at 0x7f3b33319ad0>"
      ]
     },
     "metadata": {},
     "output_type": "display_data"
    }
   ],
   "source": [
    "plt.imshow(X[0].reshape((28, 28)), cmap='gray', interpolation='nearest')\n",
    "print(y[0])"
   ]
  },
  {
   "cell_type": "code",
   "execution_count": 798,
   "metadata": {
    "collapsed": false
   },
   "outputs": [
    {
     "name": "stdout",
     "output_type": "stream",
     "text": [
      "Epoch 0, Train (val) loss 1.081 (0.638) ratio 0.590\n",
      "Train (val) accuracy 0.751 (0.864)\n",
      "Epoch 1, Train (val) loss 0.599 (0.497) ratio 0.831\n",
      "Train (val) accuracy 0.858 (0.880)\n",
      "Epoch 2, Train (val) loss 0.505 (0.444) ratio 0.879\n",
      "Train (val) accuracy 0.873 (0.893)\n",
      "Epoch 3, Train (val) loss 0.459 (0.402) ratio 0.874\n",
      "Train (val) accuracy 0.881 (0.901)\n",
      "Epoch 4, Train (val) loss 0.435 (0.378) ratio 0.868\n",
      "Train (val) accuracy 0.885 (0.901)\n",
      "Epoch 5, Train (val) loss 0.415 (0.366) ratio 0.883\n",
      "Train (val) accuracy 0.889 (0.899)\n",
      "Epoch 6, Train (val) loss 0.394 (0.356) ratio 0.904\n",
      "Train (val) accuracy 0.893 (0.900)\n",
      "Epoch 7, Train (val) loss 0.383 (0.359) ratio 0.936\n",
      "Train (val) accuracy 0.895 (0.905)\n",
      "Epoch 8, Train (val) loss 0.389 (0.340) ratio 0.875\n",
      "Train (val) accuracy 0.892 (0.908)\n",
      "Epoch 9, Train (val) loss 0.371 (0.329) ratio 0.886\n",
      "Train (val) accuracy 0.899 (0.914)\n",
      "Epoch 10, Train (val) loss 0.366 (0.335) ratio 0.914\n",
      "Train (val) accuracy 0.898 (0.910)\n",
      "Epoch 11, Train (val) loss 0.363 (0.326) ratio 0.899\n",
      "Train (val) accuracy 0.900 (0.910)\n",
      "Epoch 12, Train (val) loss 0.350 (0.327) ratio 0.936\n",
      "Train (val) accuracy 0.905 (0.913)\n",
      "Epoch 13, Train (val) loss 0.350 (0.315) ratio 0.900\n",
      "Train (val) accuracy 0.904 (0.913)\n",
      "Epoch 14, Train (val) loss 0.349 (0.319) ratio 0.912\n",
      "Train (val) accuracy 0.903 (0.913)\n"
     ]
    }
   ],
   "source": [
    "BATCH_SIZE = 64\n",
    "N_BATCHES = len(X_train) // BATCH_SIZE\n",
    "N_VAL_BATCHES = len(X_val) // BATCH_SIZE\n",
    "\n",
    "for epoch in range(15):\n",
    "    train_loss = 0\n",
    "    train_acc = 0\n",
    "    for _ in range(N_BATCHES):\n",
    "        X, y = next(train_batches)\n",
    "        loss, acc = f_train(X, y)\n",
    "        train_loss += loss\n",
    "        train_acc += acc\n",
    "    train_loss /= N_BATCHES\n",
    "    train_acc /= N_BATCHES\n",
    "\n",
    "    val_loss = 0\n",
    "    val_acc = 0\n",
    "    for _ in range(N_VAL_BATCHES):\n",
    "        X, y = next(val_batches)\n",
    "        loss, acc = f_val(X, y)\n",
    "        val_loss += loss\n",
    "        val_acc += acc\n",
    "    val_loss /= N_VAL_BATCHES\n",
    "    val_acc /= N_VAL_BATCHES\n",
    "    \n",
    "    print('Epoch {}, Train (val) loss {:.03f} ({:.03f}) ratio {:.03f}'.format(\n",
    "            epoch, train_loss, val_loss, val_loss/train_loss))\n",
    "    print('Train (val) accuracy {:.03f} ({:.03f})'.format(train_acc, val_acc))"
   ]
  },
  {
   "cell_type": "code",
   "execution_count": 799,
   "metadata": {
    "collapsed": false
   },
   "outputs": [],
   "source": [
    "weights = l_out.W.get_value()"
   ]
  },
  {
   "cell_type": "code",
   "execution_count": 800,
   "metadata": {
    "collapsed": false
   },
   "outputs": [
    {
     "data": {
      "text/plain": [
       "(784, 10)"
      ]
     },
     "execution_count": 800,
     "metadata": {},
     "output_type": "execute_result"
    }
   ],
   "source": [
    "weights.shape"
   ]
  },
  {
   "cell_type": "code",
   "execution_count": 801,
   "metadata": {
    "collapsed": false
   },
   "outputs": [
    {
     "data": {
      "image/png": "[encoded data removed]",
      "text/plain": [
       "<matplotlib.figure.Figure at 0x7f3b31fa43d0>"
      ]
     },
     "metadata": {},
     "output_type": "display_data"
    }
   ],
   "source": [
    "plt.figure(figsize=(12,3))\n",
    "for i in range(10):\n",
    "    plt.subplot(1, 10, i)\n",
    "    plt.imshow(weights[:,i].reshape((28, 28)), cmap='gray', interpolation='nearest')\n",
    "    plt.axis('off')"
   ]
  },
  {
   "cell_type": "code",
   "execution_count": null,
   "metadata": {
    "collapsed": true
   },
   "outputs": [],
   "source": []
  },
  {
   "cell_type": "code",
   "execution_count": 651,
   "metadata": {
    "collapsed": false
   },
   "outputs": [],
   "source": [
    "l_in = lasagne.layers.InputLayer((None, 784))\n",
    "l_hid = lasagne.layers.DenseLayer(l_in,\n",
    "                                  num_units=10,\n",
    "                                  nonlinearity=lasagne.nonlinearities.rectify)\n",
    "l_out = lasagne.layers.DenseLayer(l_hid,\n",
    "                                  num_units=10,\n",
    "                                  nonlinearity=lasagne.nonlinearities.softmax)"
   ]
  },
  {
   "cell_type": "code",
   "execution_count": 652,
   "metadata": {
    "collapsed": true
   },
   "outputs": [],
   "source": [
    "X_sym = T.matrix()\n",
    "y_sym = T.ivector()\n",
    "\n",
    "output = lasagne.layers.get_output(l_out, X_sym)\n",
    "pred = output.argmax(-1)\n",
    "\n",
    "loss = T.mean(lasagne.objectives.categorical_crossentropy(output, y_sym))\n",
    "\n",
    "acc = T.mean(T.eq(pred, y_sym))\n",
    "\n",
    "params = lasagne.layers.get_all_params(l_out)\n",
    "grad = T.grad(loss, params)\n",
    "updates = lasagne.updates.adadelta(grad, params, learning_rate=0.001)\n",
    "\n",
    "f_train = theano.function([X_sym, y_sym], [loss, acc], updates=updates)\n",
    "f_val = theano.function([X_sym, y_sym], [loss, acc])\n",
    "f_predict = theano.function([X_sym], pred)"
   ]
  },
  {
   "cell_type": "code",
   "execution_count": 653,
   "metadata": {
    "collapsed": false
   },
   "outputs": [
    {
     "name": "stdout",
     "output_type": "stream",
     "text": [
      "Epoch 0, Train (val) loss 2.329 (2.288) ratio 0.983\n",
      "Train (val) accuracy 0.113 (0.118)\n",
      "Epoch 1, Train (val) loss 2.263 (2.235) ratio 0.988\n",
      "Train (val) accuracy 0.118 (0.125)\n",
      "Epoch 2, Train (val) loss 2.211 (2.180) ratio 0.986\n",
      "Train (val) accuracy 0.127 (0.141)\n",
      "Epoch 3, Train (val) loss 2.166 (2.132) ratio 0.984\n",
      "Train (val) accuracy 0.146 (0.160)\n",
      "Epoch 4, Train (val) loss 2.125 (2.088) ratio 0.983\n",
      "Train (val) accuracy 0.164 (0.179)\n",
      "Epoch 5, Train (val) loss 2.081 (2.058) ratio 0.989\n",
      "Train (val) accuracy 0.181 (0.188)\n",
      "Epoch 6, Train (val) loss 2.051 (2.013) ratio 0.982\n",
      "Train (val) accuracy 0.191 (0.214)\n",
      "Epoch 7, Train (val) loss 2.012 (1.978) ratio 0.983\n",
      "Train (val) accuracy 0.211 (0.236)\n",
      "Epoch 8, Train (val) loss 1.978 (1.943) ratio 0.982\n",
      "Train (val) accuracy 0.233 (0.265)\n",
      "Epoch 9, Train (val) loss 1.949 (1.911) ratio 0.981\n",
      "Train (val) accuracy 0.261 (0.284)\n",
      "Epoch 10, Train (val) loss 1.912 (1.885) ratio 0.986\n",
      "Train (val) accuracy 0.291 (0.315)\n",
      "Epoch 11, Train (val) loss 1.888 (1.848) ratio 0.979\n",
      "Train (val) accuracy 0.310 (0.346)\n",
      "Epoch 12, Train (val) loss 1.857 (1.811) ratio 0.975\n",
      "Train (val) accuracy 0.337 (0.372)\n",
      "Epoch 13, Train (val) loss 1.824 (1.784) ratio 0.978\n",
      "Train (val) accuracy 0.357 (0.390)\n",
      "Epoch 14, Train (val) loss 1.793 (1.766) ratio 0.985\n",
      "Train (val) accuracy 0.380 (0.389)\n"
     ]
    }
   ],
   "source": [
    "BATCH_SIZE = 64\n",
    "N_BATCHES = len(X_train) // BATCH_SIZE\n",
    "N_VAL_BATCHES = len(X_val) // BATCH_SIZE\n",
    "\n",
    "for epoch in range(15):\n",
    "    train_loss = 0\n",
    "    train_acc = 0\n",
    "    for _ in range(N_BATCHES):\n",
    "        X, y = next(train_batches)\n",
    "        loss, acc = f_train(X, y)\n",
    "        train_loss += loss\n",
    "        train_acc += acc\n",
    "    train_loss /= N_BATCHES\n",
    "    train_acc /= N_BATCHES\n",
    "\n",
    "    val_loss = 0\n",
    "    val_acc = 0\n",
    "    for _ in range(N_VAL_BATCHES):\n",
    "        X, y = next(val_batches)\n",
    "        loss, acc = f_val(X, y)\n",
    "        val_loss += loss\n",
    "        val_acc += acc\n",
    "    val_loss /= N_VAL_BATCHES\n",
    "    val_acc /= N_VAL_BATCHES\n",
    "    \n",
    "    print('Epoch {}, Train (val) loss {:.03f} ({:.03f}) ratio {:.03f}'.format(\n",
    "            epoch, train_loss, val_loss, val_loss/train_loss))\n",
    "    print('Train (val) accuracy {:.03f} ({:.03f})'.format(train_acc, val_acc))"
   ]
  },
  {
   "cell_type": "code",
   "execution_count": 656,
   "metadata": {
    "collapsed": false
   },
   "outputs": [
    {
     "name": "stdout",
     "output_type": "stream",
     "text": [
      "Epoch 0, Train (val) loss 0.354 (0.205) ratio 0.579\n",
      "Train (val) accuracy 0.890 (0.939)\n",
      "Epoch 1, Train (val) loss 0.172 (0.169) ratio 0.984\n",
      "Train (val) accuracy 0.948 (0.953)\n",
      "Epoch 2, Train (val) loss 0.145 (0.153) ratio 1.054\n",
      "Train (val) accuracy 0.957 (0.957)\n",
      "Epoch 3, Train (val) loss 0.124 (0.140) ratio 1.123\n",
      "Train (val) accuracy 0.964 (0.961)\n",
      "Epoch 4, Train (val) loss 0.108 (0.131) ratio 1.216\n",
      "Train (val) accuracy 0.969 (0.967)\n",
      "Epoch 5, Train (val) loss 0.100 (0.141) ratio 1.415\n",
      "Train (val) accuracy 0.973 (0.965)\n",
      "Epoch 6, Train (val) loss 0.091 (0.143) ratio 1.573\n",
      "Train (val) accuracy 0.974 (0.967)\n",
      "Epoch 7, Train (val) loss 0.085 (0.126) ratio 1.486\n",
      "Train (val) accuracy 0.975 (0.971)\n",
      "Epoch 8, Train (val) loss 0.082 (0.118) ratio 1.432\n",
      "Train (val) accuracy 0.977 (0.971)\n",
      "Epoch 9, Train (val) loss 0.076 (0.138) ratio 1.811\n",
      "Train (val) accuracy 0.979 (0.968)\n",
      "Epoch 10, Train (val) loss 0.079 (0.123) ratio 1.553\n",
      "Train (val) accuracy 0.978 (0.970)\n",
      "Epoch 11, Train (val) loss 0.073 (0.134) ratio 1.835\n",
      "Train (val) accuracy 0.979 (0.970)\n",
      "Epoch 12, Train (val) loss 0.065 (0.116) ratio 1.777\n",
      "Train (val) accuracy 0.981 (0.973)\n",
      "Epoch 13, Train (val) loss 0.064 (0.143) ratio 2.254\n",
      "Train (val) accuracy 0.982 (0.968)\n",
      "Epoch 14, Train (val) loss 0.062 (0.137) ratio 2.224\n",
      "Train (val) accuracy 0.982 (0.972)\n",
      "Epoch 15, Train (val) loss 0.061 (0.136) ratio 2.218\n",
      "Train (val) accuracy 0.983 (0.970)\n",
      "Epoch 16, Train (val) loss 0.056 (0.138) ratio 2.459\n",
      "Train (val) accuracy 0.984 (0.973)\n",
      "Epoch 17, Train (val) loss 0.054 (0.139) ratio 2.550\n",
      "Train (val) accuracy 0.984 (0.972)\n"
     ]
    },
    {
     "ename": "KeyboardInterrupt",
     "evalue": "",
     "output_type": "error",
     "traceback": [
      "\u001b[1;31m---------------------------------------------------------------------------\u001b[0m",
      "\u001b[1;31mKeyboardInterrupt\u001b[0m                         Traceback (most recent call last)",
      "\u001b[1;32m<ipython-input-656-b0793bb14e26>\u001b[0m in \u001b[0;36m<module>\u001b[1;34m()\u001b[0m\n\u001b[0;32m     42\u001b[0m     \u001b[1;32mfor\u001b[0m \u001b[0m_\u001b[0m \u001b[1;32min\u001b[0m \u001b[0mrange\u001b[0m\u001b[1;33m(\u001b[0m\u001b[0mN_BATCHES\u001b[0m\u001b[1;33m)\u001b[0m\u001b[1;33m:\u001b[0m\u001b[1;33m\u001b[0m\u001b[0m\n\u001b[0;32m     43\u001b[0m         \u001b[0mX\u001b[0m\u001b[1;33m,\u001b[0m \u001b[0my\u001b[0m \u001b[1;33m=\u001b[0m \u001b[0mnext\u001b[0m\u001b[1;33m(\u001b[0m\u001b[0mtrain_batches\u001b[0m\u001b[1;33m)\u001b[0m\u001b[1;33m\u001b[0m\u001b[0m\n\u001b[1;32m---> 44\u001b[1;33m         \u001b[0mloss\u001b[0m\u001b[1;33m,\u001b[0m \u001b[0macc\u001b[0m \u001b[1;33m=\u001b[0m \u001b[0mf_train\u001b[0m\u001b[1;33m(\u001b[0m\u001b[0mX\u001b[0m\u001b[1;33m,\u001b[0m \u001b[0my\u001b[0m\u001b[1;33m)\u001b[0m\u001b[1;33m\u001b[0m\u001b[0m\n\u001b[0m\u001b[0;32m     45\u001b[0m         \u001b[0mtrain_loss\u001b[0m \u001b[1;33m+=\u001b[0m \u001b[0mloss\u001b[0m\u001b[1;33m\u001b[0m\u001b[0m\n\u001b[0;32m     46\u001b[0m         \u001b[0mtrain_acc\u001b[0m \u001b[1;33m+=\u001b[0m \u001b[0macc\u001b[0m\u001b[1;33m\u001b[0m\u001b[0m\n",
      "\u001b[1;32m/home/eben/venv/local/lib/python2.7/site-packages/Theano-0.7.0-py2.7.egg/theano/compile/function_module.pyc\u001b[0m in \u001b[0;36m__call__\u001b[1;34m(self, *args, **kwargs)\u001b[0m\n\u001b[0;32m    857\u001b[0m         \u001b[0mt0_fn\u001b[0m \u001b[1;33m=\u001b[0m \u001b[0mtime\u001b[0m\u001b[1;33m.\u001b[0m\u001b[0mtime\u001b[0m\u001b[1;33m(\u001b[0m\u001b[1;33m)\u001b[0m\u001b[1;33m\u001b[0m\u001b[0m\n\u001b[0;32m    858\u001b[0m         \u001b[1;32mtry\u001b[0m\u001b[1;33m:\u001b[0m\u001b[1;33m\u001b[0m\u001b[0m\n\u001b[1;32m--> 859\u001b[1;33m             \u001b[0moutputs\u001b[0m \u001b[1;33m=\u001b[0m \u001b[0mself\u001b[0m\u001b[1;33m.\u001b[0m\u001b[0mfn\u001b[0m\u001b[1;33m(\u001b[0m\u001b[1;33m)\u001b[0m\u001b[1;33m\u001b[0m\u001b[0m\n\u001b[0m\u001b[0;32m    860\u001b[0m         \u001b[1;32mexcept\u001b[0m \u001b[0mException\u001b[0m\u001b[1;33m:\u001b[0m\u001b[1;33m\u001b[0m\u001b[0m\n\u001b[0;32m    861\u001b[0m             \u001b[1;32mif\u001b[0m \u001b[0mhasattr\u001b[0m\u001b[1;33m(\u001b[0m\u001b[0mself\u001b[0m\u001b[1;33m.\u001b[0m\u001b[0mfn\u001b[0m\u001b[1;33m,\u001b[0m \u001b[1;34m'position_of_error'\u001b[0m\u001b[1;33m)\u001b[0m\u001b[1;33m:\u001b[0m\u001b[1;33m\u001b[0m\u001b[0m\n",
      "\u001b[1;31mKeyboardInterrupt\u001b[0m: "
     ]
    }
   ],
   "source": [
    "l_in = lasagne.layers.InputLayer((None, 784))\n",
    "l_hid = lasagne.layers.DenseLayer(l_in,\n",
    "                                  num_units=500,\n",
    "                                  nonlinearity=lasagne.nonlinearities.rectify)\n",
    "l_dropout1 = lasagne.layers.DropoutLayer(l_hid, p=0.5)\n",
    "l_hid2 = lasagne.layers.DenseLayer(l_dropout1,\n",
    "                                  num_units=500,\n",
    "                                  nonlinearity=lasagne.nonlinearities.rectify)\n",
    "l_dropout2 = lasagne.layers.DropoutLayer(l_hid2, p=0.5)\n",
    "l_out = lasagne.layers.DenseLayer(l_dropout2,\n",
    "                                  num_units=10,\n",
    "                                  nonlinearity=lasagne.nonlinearities.softmax)\n",
    "\n",
    "X_sym = T.matrix()\n",
    "y_sym = T.ivector()\n",
    "\n",
    "output = lasagne.layers.get_output(l_out, X_sym)\n",
    "pred = output.argmax(-1)\n",
    "\n",
    "loss = T.mean(lasagne.objectives.categorical_crossentropy(output, y_sym))\n",
    "\n",
    "acc = T.mean(T.eq(pred, y_sym))\n",
    "\n",
    "params = lasagne.layers.get_all_params(l_out)\n",
    "grad = T.grad(loss, params)\n",
    "updates = lasagne.updates.rmsprop(grad, params, learning_rate=0.001)\n",
    "\n",
    "f_train = theano.function([X_sym, y_sym], [loss, acc], updates=updates)\n",
    "f_val = theano.function([X_sym, y_sym], [loss, acc])\n",
    "f_predict = theano.function([X_sym], pred)\n",
    "\n",
    "BATCH_SIZE = 64\n",
    "N_BATCHES = len(X_train) // BATCH_SIZE\n",
    "N_VAL_BATCHES = len(X_val) // BATCH_SIZE\n",
    "\n",
    "train_batches = batch_gen(X_train, y_train, BATCH_SIZE)\n",
    "val_batches = batch_gen(X_val, y_val, BATCH_SIZE)\n",
    "\n",
    "for epoch in range(50):\n",
    "    train_loss = 0\n",
    "    train_acc = 0\n",
    "    for _ in range(N_BATCHES):\n",
    "        X, y = next(train_batches)\n",
    "        loss, acc = f_train(X, y)\n",
    "        train_loss += loss\n",
    "        train_acc += acc\n",
    "    train_loss /= N_BATCHES\n",
    "    train_acc /= N_BATCHES\n",
    "\n",
    "    val_loss = 0\n",
    "    val_acc = 0\n",
    "    for _ in range(N_VAL_BATCHES):\n",
    "        X, y = next(val_batches)\n",
    "        loss, acc = f_val(X, y)\n",
    "        val_loss += loss\n",
    "        val_acc += acc\n",
    "    val_loss /= N_VAL_BATCHES\n",
    "    val_acc /= N_VAL_BATCHES\n",
    "    \n",
    "    print('Epoch {}, Train (val) loss {:.03f} ({:.03f}) ratio {:.03f}'.format(\n",
    "            epoch, train_loss, val_loss, val_loss/train_loss))\n",
    "    print('Train (val) accuracy {:.03f} ({:.03f})'.format(train_acc, val_acc))"
   ]
  },
  {
   "cell_type": "code",
   "execution_count": 673,
   "metadata": {
    "collapsed": true
   },
   "outputs": [],
   "source": [
    "import sklearn.linear_model"
   ]
  },
  {
   "cell_type": "code",
   "execution_count": 674,
   "metadata": {
    "collapsed": true
   },
   "outputs": [],
   "source": [
    "clf = sklearn.linear_model.LogisticRegression()"
   ]
  },
  {
   "cell_type": "code",
   "execution_count": 675,
   "metadata": {
    "collapsed": false
   },
   "outputs": [
    {
     "data": {
      "text/plain": [
       "LogisticRegression(C=1.0, class_weight=None, dual=False, fit_intercept=True,\n",
       "          intercept_scaling=1, penalty='l2', random_state=None, tol=0.0001)"
      ]
     },
     "execution_count": 675,
     "metadata": {},
     "output_type": "execute_result"
    }
   ],
   "source": [
    "clf.fit(X_train, y_train)"
   ]
  },
  {
   "cell_type": "code",
   "execution_count": 676,
   "metadata": {
    "collapsed": false
   },
   "outputs": [
    {
     "data": {
      "text/plain": [
       "0.92169999999999996"
      ]
     },
     "execution_count": 676,
     "metadata": {},
     "output_type": "execute_result"
    }
   ],
   "source": [
    "clf.score(X_val, y_val)"
   ]
  },
  {
   "cell_type": "code",
   "execution_count": null,
   "metadata": {
    "collapsed": true
   },
   "outputs": [],
   "source": []
  }
 ],
 "metadata": {
  "celltoolbar": "Slideshow",
  "kernelspec": {
   "display_name": "Python 2",
   "language": "python",
   "name": "python2"
  },
  "language_info": {
   "codemirror_mode": {
    "name": "ipython",
    "version": 2
   },
   "file_extension": ".py",
   "mimetype": "text/x-python",
   "name": "python",
   "nbconvert_exporter": "python",
   "pygments_lexer": "ipython2",
   "version": "2.7.6"
  }
 },
 "nbformat": 4,
 "nbformat_minor": 0
}
